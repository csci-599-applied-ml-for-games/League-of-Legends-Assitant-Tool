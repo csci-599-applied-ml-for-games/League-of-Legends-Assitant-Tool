{
 "cells": [
  {
   "cell_type": "code",
   "execution_count": 1,
   "metadata": {},
   "outputs": [
    {
     "name": "stdout",
     "output_type": "stream",
     "text": [
      "2.0.0\n",
      "sys.version_info(major=3, minor=7, micro=5, releaselevel='final', serial=0)\n",
      "numpy 1.16.4\n",
      "pandas 0.25.3\n",
      "sklearn 0.22\n",
      "tensorflow 2.0.0\n",
      "tensorflow_core.keras 2.2.4-tf\n",
      "Training Images ->  104908\n",
      "Validation Images ->  27800\n",
      "Test Images ->  151\n"
     ]
    }
   ],
   "source": [
    "import numpy as np # linear algebra\n",
    "import pandas as pd # data processing, CSV file I/O (e.g. pd.read_csv)\n",
    "import os\n",
    "import matplotlib.pyplot as plt\n",
    "import sklearn\n",
    "import sys\n",
    "import tensorflow as tf\n",
    "import time\n",
    "import random\n",
    "import pathlib\n",
    "\n",
    "from tensorflow import keras\n",
    "\n",
    "print(tf.__version__)\n",
    "print(sys.version_info)\n",
    "for module in np, pd, sklearn, tf, keras:\n",
    "    print(module.__name__, module.__version__)\n",
    "\n",
    "\n",
    "training_path = pathlib.Path('./champ_faces/training')\n",
    "validation_path = pathlib.Path('./champ_faces/valid')\n",
    "test_path = pathlib.Path('./champ_faces/test')\n",
    "\n",
    "train_image_paths = list(training_path.glob('*/*'))  \n",
    "valid_image_paths = list(validation_path.glob('*/*'))  \n",
    "test_image_paths = list(test_path.glob('*/'))  \n",
    "\n",
    "train_image_paths = [str(path) for path in train_image_paths]\n",
    "valid_image_paths = [str(path) for path in valid_image_paths]\n",
    "test_image_paths = [str(path) for path in test_image_paths]\n",
    "\n",
    "random.shuffle(train_image_paths)\n",
    "random.shuffle(valid_image_paths)\n",
    "random.shuffle(test_image_paths)\n",
    "\n",
    "train_image_count = len(train_image_paths)\n",
    "valid_image_count = len(valid_image_paths)\n",
    "test_image_count = len(test_image_paths)\n",
    "\n",
    "print(\"Training Images -> \", train_image_count)\n",
    "print(\"Validation Images -> \", valid_image_count)\n",
    "print(\"Test Images -> \", test_image_count)"
   ]
  },
  {
   "cell_type": "code",
   "execution_count": 2,
   "metadata": {},
   "outputs": [
    {
     "data": {
      "text/plain": [
       "['champ_faces\\\\training\\\\Bard\\\\662.jpg',\n",
       " 'champ_faces\\\\training\\\\Trundle\\\\50.jpg',\n",
       " 'champ_faces\\\\training\\\\Gragas\\\\492.jpg',\n",
       " 'champ_faces\\\\training\\\\Jax\\\\439.jpg',\n",
       " \"champ_faces\\\\training\\\\Kha'Zix\\\\510.jpg\"]"
      ]
     },
     "execution_count": 2,
     "metadata": {},
     "output_type": "execute_result"
    }
   ],
   "source": [
    "train_image_paths[:5]"
   ]
  },
  {
   "cell_type": "code",
   "execution_count": 3,
   "metadata": {},
   "outputs": [
    {
     "data": {
      "text/plain": [
       "['champ_faces\\\\valid\\\\Nami\\\\84.jpg',\n",
       " 'champ_faces\\\\valid\\\\Galio\\\\169.jpg',\n",
       " 'champ_faces\\\\valid\\\\Rengar\\\\157.jpg',\n",
       " 'champ_faces\\\\valid\\\\Nami\\\\15.jpg',\n",
       " 'champ_faces\\\\valid\\\\Shen\\\\160.jpg']"
      ]
     },
     "execution_count": 3,
     "metadata": {},
     "output_type": "execute_result"
    }
   ],
   "source": [
    "valid_image_paths[:5]"
   ]
  },
  {
   "cell_type": "code",
   "execution_count": 4,
   "metadata": {},
   "outputs": [
    {
     "data": {
      "text/plain": [
       "['champ_faces\\\\test\\\\Malphite.jpg',\n",
       " 'champ_faces\\\\test\\\\Singed.jpg',\n",
       " 'champ_faces\\\\test\\\\Lissandra.jpg',\n",
       " 'champ_faces\\\\test\\\\Renekton.jpg',\n",
       " 'champ_faces\\\\test\\\\Varus.jpg']"
      ]
     },
     "execution_count": 4,
     "metadata": {},
     "output_type": "execute_result"
    }
   ],
   "source": [
    "test_image_paths[:5]"
   ]
  },
  {
   "cell_type": "code",
   "execution_count": 5,
   "metadata": {},
   "outputs": [
    {
     "data": {
      "text/plain": [
       "['Aatrox',\n",
       " 'Ahri',\n",
       " 'Akali',\n",
       " 'Alistar',\n",
       " 'Amumu',\n",
       " 'Anivia',\n",
       " 'Annie',\n",
       " 'Aphelios',\n",
       " 'Ashe',\n",
       " 'Aurelion Sol',\n",
       " 'Azir',\n",
       " 'Bard',\n",
       " 'Blitzcrank',\n",
       " 'Brand',\n",
       " 'Braum',\n",
       " 'Caitlyn',\n",
       " 'Camille',\n",
       " 'Cassiopeia',\n",
       " \"Cho'Gath\",\n",
       " 'Corki',\n",
       " 'Darius',\n",
       " 'Diana',\n",
       " 'Dr. Mundo',\n",
       " 'Draven',\n",
       " 'Ekko',\n",
       " 'Elise',\n",
       " 'Evelynn',\n",
       " 'Ezreal',\n",
       " 'Fiddlesticks',\n",
       " 'Fiora',\n",
       " 'Fizz',\n",
       " 'Galio',\n",
       " 'Gangplank',\n",
       " 'Garen',\n",
       " 'Gnar',\n",
       " 'Gragas',\n",
       " 'Graves',\n",
       " 'Hecarim',\n",
       " 'Heimerdinger',\n",
       " 'Illaoi',\n",
       " 'Irelia',\n",
       " 'Ivern',\n",
       " 'Janna',\n",
       " 'Jarvan\\xa0IV',\n",
       " 'Jax',\n",
       " 'Jayce',\n",
       " 'Jhin',\n",
       " 'Jinx',\n",
       " \"Kai'Sa\",\n",
       " 'Kalista',\n",
       " 'Karma',\n",
       " 'Karthus',\n",
       " 'Kassadin',\n",
       " 'Katarina',\n",
       " 'Kayle',\n",
       " 'Kayn',\n",
       " 'Kennen',\n",
       " \"Kha'Zix\",\n",
       " 'Kindred',\n",
       " 'Kled',\n",
       " \"Kog'Maw\",\n",
       " 'LeBlanc',\n",
       " 'Lee Sin',\n",
       " 'Leona',\n",
       " 'Lissandra',\n",
       " 'Lucian',\n",
       " 'Lulu',\n",
       " 'Lux',\n",
       " 'Malphite',\n",
       " 'Malzahar',\n",
       " 'Maokai',\n",
       " 'Master Yi',\n",
       " 'Miss Fortune',\n",
       " 'Mordekaiser',\n",
       " 'Morgana',\n",
       " 'Nami',\n",
       " 'Nasus',\n",
       " 'Nautilus',\n",
       " 'Neeko',\n",
       " 'Nidalee',\n",
       " 'Nocturne',\n",
       " 'None',\n",
       " 'None2',\n",
       " 'Nothing',\n",
       " 'Nunu\\xa0&\\xa0Willump',\n",
       " 'Olaf',\n",
       " 'Orianna',\n",
       " 'Ornn',\n",
       " 'Pantheon',\n",
       " 'Poppy',\n",
       " 'Pyke',\n",
       " 'Qiyana',\n",
       " 'Quinn',\n",
       " 'Rakan',\n",
       " 'Rammus',\n",
       " \"Rek'Sai\",\n",
       " 'Renekton',\n",
       " 'Rengar',\n",
       " 'Riven',\n",
       " 'Rumble',\n",
       " 'Ryze',\n",
       " 'Sejuani',\n",
       " 'Senna',\n",
       " 'Sett',\n",
       " 'Shaco',\n",
       " 'Shen',\n",
       " 'Shyvana',\n",
       " 'Singed',\n",
       " 'Sion',\n",
       " 'Sivir',\n",
       " 'Skarner',\n",
       " 'Sona',\n",
       " 'Soraka',\n",
       " 'Swain',\n",
       " 'Sylas',\n",
       " 'Syndra',\n",
       " 'Tahm\\xa0Kench',\n",
       " 'Taliyah',\n",
       " 'Talon',\n",
       " 'Taric',\n",
       " 'Teemo',\n",
       " 'Thresh',\n",
       " 'Tristana',\n",
       " 'Trundle',\n",
       " 'Tryndamere',\n",
       " 'Twisted\\xa0Fate',\n",
       " 'Twitch',\n",
       " 'Udyr',\n",
       " 'Urgot',\n",
       " 'Varus',\n",
       " 'Vayne',\n",
       " 'Veigar',\n",
       " \"Vel'Koz\",\n",
       " 'Vi',\n",
       " 'Viktor',\n",
       " 'Vladimir',\n",
       " 'Volibear',\n",
       " 'Warwick',\n",
       " 'Wukong',\n",
       " 'Xayah',\n",
       " 'Xerath',\n",
       " 'Xin Zhao',\n",
       " 'Yasuo',\n",
       " 'Yorick',\n",
       " 'Yuumi',\n",
       " 'Zac',\n",
       " 'Zed',\n",
       " 'Ziggs',\n",
       " 'Zilean',\n",
       " 'Zoe',\n",
       " 'Zyra']"
      ]
     },
     "execution_count": 5,
     "metadata": {},
     "output_type": "execute_result"
    }
   ],
   "source": [
    "label_names = sorted(item.name for item in training_path.glob('*/') if item.is_dir())\n",
    "label_names"
   ]
  },
  {
   "cell_type": "code",
   "execution_count": 6,
   "metadata": {},
   "outputs": [
    {
     "name": "stdout",
     "output_type": "stream",
     "text": [
      "champ_faces\\training\\Bard\\662.jpg  --->   Bard\n",
      "champ_faces\\training\\Trundle\\50.jpg  --->   Trundle\n",
      "champ_faces\\training\\Gragas\\492.jpg  --->   Gragas\n",
      "champ_faces\\training\\Jax\\439.jpg  --->   Jax\n",
      "champ_faces\\training\\Kha'Zix\\510.jpg  --->   Kha'Zix\n"
     ]
    }
   ],
   "source": [
    "training_image_labels = [pathlib.Path(path).parent.name for path in train_image_paths]\n",
    "for image, label in zip(train_image_paths[:5], training_image_labels[:5]):\n",
    "    print(image, ' --->  ', label)"
   ]
  },
  {
   "cell_type": "code",
   "execution_count": 7,
   "metadata": {},
   "outputs": [],
   "source": [
    "train_labels_info = []\n",
    "for image_path, label in zip(train_image_paths, training_image_labels):\n",
    "    train_labels_info.append((image_path, label))"
   ]
  },
  {
   "cell_type": "code",
   "execution_count": 8,
   "metadata": {},
   "outputs": [
    {
     "name": "stdout",
     "output_type": "stream",
     "text": [
      "[('champ_faces\\\\training\\\\Bard\\\\662.jpg', 'Bard'),\n",
      " ('champ_faces\\\\training\\\\Trundle\\\\50.jpg', 'Trundle'),\n",
      " ('champ_faces\\\\training\\\\Gragas\\\\492.jpg', 'Gragas'),\n",
      " ('champ_faces\\\\training\\\\Jax\\\\439.jpg', 'Jax'),\n",
      " (\"champ_faces\\\\training\\\\Kha'Zix\\\\510.jpg\", \"Kha'Zix\")]\n"
     ]
    }
   ],
   "source": [
    "import pprint\n",
    "pprint.pprint(train_labels_info[:5])"
   ]
  },
  {
   "cell_type": "code",
   "execution_count": 9,
   "metadata": {},
   "outputs": [
    {
     "name": "stdout",
     "output_type": "stream",
     "text": [
      "champ_faces\\valid\\Nami\\84.jpg  --->   Nami\n",
      "champ_faces\\valid\\Galio\\169.jpg  --->   Galio\n",
      "champ_faces\\valid\\Rengar\\157.jpg  --->   Rengar\n",
      "champ_faces\\valid\\Nami\\15.jpg  --->   Nami\n",
      "champ_faces\\valid\\Shen\\160.jpg  --->   Shen\n"
     ]
    }
   ],
   "source": [
    "valid_image_labels = [pathlib.Path(path).parent.name for path in valid_image_paths]\n",
    "for image, label in zip(valid_image_paths[:5], valid_image_labels[:5]):\n",
    "    print(image, ' --->  ', label)"
   ]
  },
  {
   "cell_type": "code",
   "execution_count": 10,
   "metadata": {},
   "outputs": [],
   "source": [
    "valid_labels_info = []\n",
    "for image_path, label in zip(valid_image_paths, valid_image_labels):\n",
    "    valid_labels_info.append((image_path, label))"
   ]
  },
  {
   "cell_type": "code",
   "execution_count": 11,
   "metadata": {},
   "outputs": [
    {
     "name": "stdout",
     "output_type": "stream",
     "text": [
      "[('champ_faces\\\\valid\\\\Nami\\\\84.jpg', 'Nami'),\n",
      " ('champ_faces\\\\valid\\\\Galio\\\\169.jpg', 'Galio'),\n",
      " ('champ_faces\\\\valid\\\\Rengar\\\\157.jpg', 'Rengar'),\n",
      " ('champ_faces\\\\valid\\\\Nami\\\\15.jpg', 'Nami'),\n",
      " ('champ_faces\\\\valid\\\\Shen\\\\160.jpg', 'Shen')]\n"
     ]
    }
   ],
   "source": [
    "pprint.pprint(valid_labels_info[:5])"
   ]
  },
  {
   "cell_type": "code",
   "execution_count": 12,
   "metadata": {},
   "outputs": [
    {
     "name": "stdout",
     "output_type": "stream",
     "text": [
      "champ_faces\\test\\Malphite.jpg  --->   Malphite\n",
      "champ_faces\\test\\Singed.jpg  --->   Singed\n",
      "champ_faces\\test\\Lissandra.jpg  --->   Lissandra\n",
      "champ_faces\\test\\Renekton.jpg  --->   Renekton\n",
      "champ_faces\\test\\Varus.jpg  --->   Varus\n"
     ]
    }
   ],
   "source": [
    "test_image_labels = [path.split('\\\\')[2].split('.')[0] for path in test_image_paths]\n",
    "for image, label in zip(test_image_paths[:5], test_image_labels[:5]):\n",
    "    print(image, ' --->  ', label)"
   ]
  },
  {
   "cell_type": "code",
   "execution_count": 13,
   "metadata": {},
   "outputs": [],
   "source": [
    "test_labels_info = []\n",
    "for image_path, label in zip(test_image_paths, test_image_labels):\n",
    "    test_labels_info.append((image_path, label))"
   ]
  },
  {
   "cell_type": "code",
   "execution_count": 14,
   "metadata": {},
   "outputs": [
    {
     "name": "stdout",
     "output_type": "stream",
     "text": [
      "                               filepath    class\n",
      "0     champ_faces\\training\\Bard\\662.jpg     Bard\n",
      "1   champ_faces\\training\\Trundle\\50.jpg  Trundle\n",
      "2   champ_faces\\training\\Gragas\\492.jpg   Gragas\n",
      "3      champ_faces\\training\\Jax\\439.jpg      Jax\n",
      "4  champ_faces\\training\\Kha'Zix\\510.jpg  Kha'Zix\n",
      "                           filepath   class\n",
      "0     champ_faces\\valid\\Nami\\84.jpg    Nami\n",
      "1   champ_faces\\valid\\Galio\\169.jpg   Galio\n",
      "2  champ_faces\\valid\\Rengar\\157.jpg  Rengar\n",
      "3     champ_faces\\valid\\Nami\\15.jpg    Nami\n",
      "4    champ_faces\\valid\\Shen\\160.jpg    Shen\n",
      "                         filepath      class\n",
      "0   champ_faces\\test\\Malphite.jpg   Malphite\n",
      "1     champ_faces\\test\\Singed.jpg     Singed\n",
      "2  champ_faces\\test\\Lissandra.jpg  Lissandra\n",
      "3   champ_faces\\test\\Renekton.jpg   Renekton\n",
      "4      champ_faces\\test\\Varus.jpg      Varus\n"
     ]
    }
   ],
   "source": [
    "train_df = pd.DataFrame(train_labels_info)\n",
    "valid_df = pd.DataFrame(valid_labels_info)\n",
    "test_df = pd.DataFrame(test_labels_info)\n",
    "\n",
    "train_df.columns = valid_df.columns =test_df.columns = ['filepath', 'class']\n",
    "\n",
    "print(train_df.head())\n",
    "print(valid_df.head())\n",
    "print(test_df.head())"
   ]
  },
  {
   "cell_type": "code",
   "execution_count": 15,
   "metadata": {},
   "outputs": [
    {
     "name": "stdout",
     "output_type": "stream",
     "text": [
      "Found 104908 validated image filenames belonging to 151 classes.\n",
      "Found 27800 validated image filenames belonging to 151 classes.\n",
      "Found 150 validated image filenames belonging to 151 classes.\n"
     ]
    }
   ],
   "source": [
    "height = 32\n",
    "width = 32\n",
    "channels = 3\n",
    "batch_size = 128\n",
    "num_classes = 152\n",
    "\n",
    "train_datagen = keras.preprocessing.image.ImageDataGenerator(\n",
    "    #像素值 都除以255\n",
    "    rescale = 1./255,\n",
    "    # 图片随机旋转 (5度以内)\n",
    "    rotation_range = 20,\n",
    "    # 图片左右位移  20%限度以内\n",
    "    width_shift_range = 0.2,\n",
    "    # 图片上下位移  20%限度以内\n",
    "    height_shift_range = 0.2,\n",
    "    # 图像剪切强度\n",
    "    shear_range = 0.2,\n",
    "    # 图像缩放强度\n",
    "    zoom_range = 0.2,\n",
    "    # 是否水平翻转\n",
    "    horizontal_flip = False,\n",
    "    # 放大缩小吼， 像素填充方式\n",
    "    fill_mode = 'nearest',\n",
    ")\n",
    "\n",
    "train_generator = train_datagen.flow_from_dataframe(train_df, directory = './',\n",
    "                                                    x_col = 'filepath',\n",
    "                                                    y_col = 'class',\n",
    "                                                    classes = label_names,\n",
    "                                                    target_size = (height, width),\n",
    "                                                    batch_size = batch_size,\n",
    "                                                    seed = 2333,\n",
    "                                                    shuffle = True,\n",
    "                                                    class_mode = \"categorical\")\n",
    "\n",
    "valid_datagen = keras.preprocessing.image.ImageDataGenerator(\n",
    "    rescale = 1./255,\n",
    ")\n",
    "valid_generator = valid_datagen.flow_from_dataframe(valid_df, directory = './',\n",
    "                                                    x_col = 'filepath',\n",
    "                                                    y_col = 'class',\n",
    "                                                    classes = label_names,\n",
    "                                                    target_size = (height, width),\n",
    "                                                    batch_size = batch_size,\n",
    "                                                    seed = 666,\n",
    "                                                    shuffle = True,\n",
    "                                                    class_mode = \"categorical\")\n",
    "\n",
    "test_datagen = keras.preprocessing.image.ImageDataGenerator(\n",
    "    rescale = 1./255,\n",
    ")\n",
    "test_generator = test_datagen.flow_from_dataframe(test_df, directory = './',\n",
    "                                                    x_col = 'filepath',\n",
    "                                                    y_col = 'class',\n",
    "                                                    classes = label_names,\n",
    "                                                    target_size = (height, width),\n",
    "                                                    batch_size = batch_size,\n",
    "                                                    seed = 9727,\n",
    "                                                    shuffle = True,\n",
    "                                                    class_mode = \"categorical\")"
   ]
  },
  {
   "cell_type": "code",
   "execution_count": 16,
   "metadata": {},
   "outputs": [
    {
     "name": "stdout",
     "output_type": "stream",
     "text": [
      "Training Generator Sample ->  104908\n",
      "Validation Generator Sample ->  27800\n",
      "Test Generator Sample ->  150\n"
     ]
    }
   ],
   "source": [
    "train_num = train_generator.samples\n",
    "valid_num = valid_generator.samples\n",
    "test_num = test_generator.samples\n",
    "\n",
    "print(\"Training Generator Sample -> \", train_num)\n",
    "print(\"Validation Generator Sample -> \", valid_num)\n",
    "print(\"Test Generator Sample -> \", test_num)"
   ]
  },
  {
   "cell_type": "code",
   "execution_count": 17,
   "metadata": {},
   "outputs": [
    {
     "name": "stdout",
     "output_type": "stream",
     "text": [
      "(128, 32, 32, 3) (128, 151)\n",
      "[[0. 0. 0. ... 0. 0. 0.]\n",
      " [0. 0. 0. ... 0. 0. 0.]\n",
      " [0. 0. 0. ... 0. 0. 0.]\n",
      " ...\n",
      " [0. 0. 0. ... 0. 0. 0.]\n",
      " [0. 0. 0. ... 0. 0. 0.]\n",
      " [0. 0. 0. ... 0. 0. 0.]]\n",
      "(128, 32, 32, 3) (128, 151)\n",
      "[[0. 0. 0. ... 0. 0. 0.]\n",
      " [0. 0. 0. ... 0. 0. 0.]\n",
      " [0. 0. 0. ... 0. 0. 0.]\n",
      " ...\n",
      " [0. 0. 0. ... 0. 0. 0.]\n",
      " [0. 0. 0. ... 0. 0. 0.]\n",
      " [0. 0. 0. ... 0. 0. 0.]]\n"
     ]
    }
   ],
   "source": [
    "for i in range(2):\n",
    "    x, y = train_generator.next()\n",
    "    print(x.shape, y.shape)\n",
    "    print(y)"
   ]
  },
  {
   "cell_type": "code",
   "execution_count": 18,
   "metadata": {},
   "outputs": [
    {
     "name": "stdout",
     "output_type": "stream",
     "text": [
      "Model: \"sequential\"\n",
      "_________________________________________________________________\n",
      "Layer (type)                 Output Shape              Param #   \n",
      "=================================================================\n",
      "conv2d (Conv2D)              (None, 32, 32, 16)        448       \n",
      "_________________________________________________________________\n",
      "conv2d_1 (Conv2D)            (None, 32, 32, 16)        2320      \n",
      "_________________________________________________________________\n",
      "max_pooling2d (MaxPooling2D) (None, 16, 16, 16)        0         \n",
      "_________________________________________________________________\n",
      "conv2d_2 (Conv2D)            (None, 16, 16, 32)        4640      \n",
      "_________________________________________________________________\n",
      "conv2d_3 (Conv2D)            (None, 16, 16, 32)        9248      \n",
      "_________________________________________________________________\n",
      "max_pooling2d_1 (MaxPooling2 (None, 8, 8, 32)          0         \n",
      "_________________________________________________________________\n",
      "conv2d_4 (Conv2D)            (None, 8, 8, 64)          18496     \n",
      "_________________________________________________________________\n",
      "conv2d_5 (Conv2D)            (None, 8, 8, 64)          36928     \n",
      "_________________________________________________________________\n",
      "max_pooling2d_2 (MaxPooling2 (None, 4, 4, 64)          0         \n",
      "_________________________________________________________________\n",
      "flatten (Flatten)            (None, 1024)              0         \n",
      "_________________________________________________________________\n",
      "dense (Dense)                (None, 128)               131200    \n",
      "_________________________________________________________________\n",
      "alpha_dropout (AlphaDropout) (None, 128)               0         \n",
      "_________________________________________________________________\n",
      "dense_1 (Dense)              (None, 151)               19479     \n",
      "=================================================================\n",
      "Total params: 222,759\n",
      "Trainable params: 222,759\n",
      "Non-trainable params: 0\n",
      "_________________________________________________________________\n"
     ]
    }
   ],
   "source": [
    "model = keras.models.Sequential([\n",
    "    \n",
    "    keras.layers.Conv2D(filters=16, kernel_size = 3, padding='same',\n",
    "                       activation = 'selu', input_shape = [width, height, channels]),\n",
    "    keras.layers.Conv2D(filters=16, kernel_size = 3, \n",
    "                        padding='same', activation = 'selu'),\n",
    "    keras.layers.MaxPool2D(pool_size=2),\n",
    "    \n",
    "    keras.layers.Conv2D(filters=32, kernel_size = 3, \n",
    "                        padding='same', activation = 'selu'),\n",
    "    keras.layers.Conv2D(filters=32, kernel_size = 3, \n",
    "                        padding='same', activation = 'selu'),\n",
    "    keras.layers.MaxPool2D(pool_size=2),\n",
    "    \n",
    "    keras.layers.Conv2D(filters=64, kernel_size = 3, padding='same',\n",
    "                       activation = 'selu', input_shape = [width, height, channels]),\n",
    "    keras.layers.Conv2D(filters=64, kernel_size = 3, \n",
    "                        padding='same', activation = 'selu'),\n",
    "    keras.layers.MaxPool2D(pool_size=2),\n",
    "    \n",
    "    keras.layers.Flatten(),\n",
    "    keras.layers.Dense(128, activation = 'selu'),\n",
    "    keras.layers.AlphaDropout(rate=0.5),\n",
    "    \n",
    "    keras.layers.Dense(num_classes, activation = 'softmax')\n",
    "])\n",
    "\n",
    "model.compile(loss=\"categorical_crossentropy\",\n",
    "             optimizer = \"adam\", metrics = ['accuracy'])\n",
    "\n",
    "model.summary()"
   ]
  },
  {
   "cell_type": "code",
   "execution_count": 19,
   "metadata": {},
   "outputs": [],
   "source": [
    "logdir = './face_recognition'\n",
    "if not os.path.exists(logdir):\n",
    "    os.mkdir(logdir)\n",
    "\n",
    "output_model_file = os.path.join(logdir, \"face_recognition_model.h5\")\n",
    "\n",
    "callbacks = [\n",
    "    keras.callbacks.ModelCheckpoint(output_model_file, save_best_only=True),\n",
    "    keras.callbacks.EarlyStopping(patience=5, min_delta=1e-4)\n",
    "]"
   ]
  },
  {
   "cell_type": "code",
   "execution_count": 20,
   "metadata": {},
   "outputs": [
    {
     "name": "stdout",
     "output_type": "stream",
     "text": [
      "Epoch 1/20\n",
      "819/819 [==============================] - 121s 148ms/step - loss: 1.3902 - accuracy: 0.6494 - val_loss: 0.0817 - val_accuracy: 0.9799\n",
      "Epoch 2/20\n",
      "819/819 [==============================] - 126s 153ms/step - loss: 0.3007 - accuracy: 0.9103 - val_loss: 0.0609 - val_accuracy: 0.9849\n",
      "Epoch 3/20\n",
      "819/819 [==============================] - 119s 145ms/step - loss: 0.1839 - accuracy: 0.9437 - val_loss: 0.0351 - val_accuracy: 0.9915\n",
      "Epoch 4/20\n",
      "819/819 [==============================] - 121s 147ms/step - loss: 0.1523 - accuracy: 0.9534 - val_loss: 0.0520 - val_accuracy: 0.9889\n",
      "Epoch 5/20\n",
      "819/819 [==============================] - 118s 144ms/step - loss: 0.1320 - accuracy: 0.9603 - val_loss: 0.2218 - val_accuracy: 0.9698\n",
      "Epoch 6/20\n",
      "819/819 [==============================] - 122s 149ms/step - loss: 0.1190 - accuracy: 0.9647 - val_loss: 0.0123 - val_accuracy: 0.9969\n",
      "Epoch 7/20\n",
      "819/819 [==============================] - 118s 144ms/step - loss: 0.1070 - accuracy: 0.9683 - val_loss: 0.0318 - val_accuracy: 0.9946\n",
      "Epoch 8/20\n",
      "819/819 [==============================] - 115s 140ms/step - loss: 0.1037 - accuracy: 0.9701 - val_loss: 0.1680 - val_accuracy: 0.9792\n",
      "Epoch 9/20\n",
      "819/819 [==============================] - 109s 134ms/step - loss: 0.0907 - accuracy: 0.9735 - val_loss: 0.0056 - val_accuracy: 0.9984\n",
      "Epoch 10/20\n",
      "819/819 [==============================] - 109s 133ms/step - loss: 0.0962 - accuracy: 0.9732 - val_loss: 0.0657 - val_accuracy: 0.9903\n",
      "Epoch 11/20\n",
      "819/819 [==============================] - 109s 133ms/step - loss: 0.0914 - accuracy: 0.9746 - val_loss: 0.0229 - val_accuracy: 0.9970\n",
      "Epoch 12/20\n",
      "819/819 [==============================] - 110s 134ms/step - loss: 0.0905 - accuracy: 0.9753 - val_loss: 0.0091 - val_accuracy: 0.9987\n",
      "Epoch 13/20\n",
      "819/819 [==============================] - 108s 131ms/step - loss: 0.0934 - accuracy: 0.9748 - val_loss: 0.0486 - val_accuracy: 0.9950\n",
      "Epoch 14/20\n",
      "819/819 [==============================] - 136s 167ms/step - loss: 0.0754 - accuracy: 0.9797 - val_loss: 0.3404 - val_accuracy: 0.9683\n",
      "Epoch 15/20\n",
      "819/819 [==============================] - 133s 163ms/step - loss: 0.0781 - accuracy: 0.9793 - val_loss: 0.0383 - val_accuracy: 0.9929\n",
      "Epoch 16/20\n",
      "819/819 [==============================] - 132s 161ms/step - loss: 0.0849 - accuracy: 0.9785 - val_loss: 0.0105 - val_accuracy: 0.9986\n",
      "Epoch 17/20\n",
      "819/819 [==============================] - 130s 159ms/step - loss: 0.0807 - accuracy: 0.9800 - val_loss: 0.0650 - val_accuracy: 0.9927\n",
      "Epoch 18/20\n",
      "819/819 [==============================] - 130s 159ms/step - loss: 0.0814 - accuracy: 0.9801 - val_loss: 0.0174 - val_accuracy: 0.9976\n",
      "Epoch 19/20\n",
      "819/819 [==============================] - 118s 144ms/step - loss: 0.0736 - accuracy: 0.9821 - val_loss: 0.0093 - val_accuracy: 0.9985\n",
      "Epoch 20/20\n",
      "819/819 [==============================] - 109s 134ms/step - loss: 0.0814 - accuracy: 0.9809 - val_loss: 0.0014 - val_accuracy: 0.9996\n"
     ]
    }
   ],
   "source": [
    "epochs = 50\n",
    "#因为数据是generator 产生的 所以不能用fit函数\n",
    "history = model.fit_generator(train_generator, steps_per_epoch=train_num // batch_size,\n",
    "                             epochs=epochs, validation_data=valid_generator,\n",
    "                             validation_steps=valid_num//batch_size)"
   ]
  },
  {
   "cell_type": "code",
   "execution_count": 21,
   "metadata": {},
   "outputs": [],
   "source": [
    "def plot_learning_curves(history, label, epochs, min_value, max_value):\n",
    "    data = {}\n",
    "    data[label] = history.history[label]\n",
    "    data['val_'+label] = history.history['val_' + label]\n",
    "    \n",
    "    pd.DataFrame(data).plot(figsize = (8,5))\n",
    "    plt.grid(True)\n",
    "    plt.axis([0, epochs, min_value, max_value])\n",
    "    plt.show()"
   ]
  },
  {
   "cell_type": "code",
   "execution_count": 22,
   "metadata": {},
   "outputs": [
    {
     "data": {
      "image/png": "[encoded data removed]",
      "text/plain": [
       "<Figure size 576x360 with 1 Axes>"
      ]
     },
     "metadata": {
      "needs_background": "light"
     },
     "output_type": "display_data"
    }
   ],
   "source": [
    "plot_learning_curves(history, 'accuracy', epochs, 0, 1)"
   ]
  },
  {
   "cell_type": "code",
   "execution_count": 23,
   "metadata": {},
   "outputs": [
    {
     "data": {
      "image/png": "[encoded data removed]",
      "text/plain": [
       "<Figure size 576x360 with 1 Axes>"
      ]
     },
     "metadata": {
      "needs_background": "light"
     },
     "output_type": "display_data"
    }
   ],
   "source": [
    "plot_learning_curves(history, 'loss', epochs, 0, 2)"
   ]
  },
  {
   "cell_type": "code",
   "execution_count": 24,
   "metadata": {},
   "outputs": [],
   "source": [
    "def load_and_preprocess_single_img(path):\n",
    "    # read the img through file path\n",
    "    image = tf.io.read_file(path)  \n",
    "    image = tf.image.decode_jpeg(image, channels=3)\n",
    "    # 原始图片大小为(128, 128, 3)，重设为(32, 32)\n",
    "    image = tf.image.resize(image, [32, 32])  \n",
    "    image = tf.cast(image, tf.float32) / 255.0  # 归一化到[0,1]范围\n",
    "    image = np.expand_dims(image, axis = 0) # since you have batch_size, so you need to expand your image\n",
    "    return image"
   ]
  },
  {
   "cell_type": "code",
   "execution_count": 25,
   "metadata": {},
   "outputs": [],
   "source": [
    "def evaluate_single_pic(path, show=False):\n",
    "    \n",
    "    if show:\n",
    "        import matplotlib.image as mpimg\n",
    "        plt.imshow(mpimg.imread(path))\n",
    "    image = load_and_preprocess_single_img(path)\n",
    "    predict_result = model.predict(image)\n",
    "    print(\"This is\", label_names[np.argmax(predict_result, axis=1)[0]])"
   ]
  },
  {
   "cell_type": "code",
   "execution_count": 26,
   "metadata": {},
   "outputs": [],
   "source": [
    "# test_pic_path = \"./lol_data_1/test_2/13.png\"\n",
    "# evaluate_single_pic(test_pic_path, True)"
   ]
  },
  {
   "cell_type": "code",
   "execution_count": 27,
   "metadata": {},
   "outputs": [],
   "source": [
    "# test_pic_path2 = \"./lol_data_1/test_2/2.png\"\n",
    "# evaluate_single_pic(test_pic_path2, True)"
   ]
  },
  {
   "cell_type": "code",
   "execution_count": 28,
   "metadata": {},
   "outputs": [
    {
     "name": "stdout",
     "output_type": "stream",
     "text": [
      "2/2 [==============================] - 0s 208ms/step - loss: 0.0000e+00 - accuracy: 1.0000\n",
      "[0.0, 1.0]\n"
     ]
    }
   ],
   "source": [
    "test_accuracy = model.evaluate(test_generator)\n",
    "print(test_accuracy)"
   ]
  },
  {
   "cell_type": "code",
   "execution_count": 29,
   "metadata": {},
   "outputs": [],
   "source": [
    "model.save_weights('./checkpoints/my_checkpoint')"
   ]
  },
  {
   "cell_type": "code",
   "execution_count": 30,
   "metadata": {},
   "outputs": [],
   "source": [
    "model.save('./face_recognition_model.h5')"
   ]
  },
  {
   "cell_type": "code",
   "execution_count": null,
   "metadata": {},
   "outputs": [],
   "source": []
  }
 ],
 "metadata": {
  "kernelspec": {
   "display_name": "TensorFlow-GPU",
   "language": "python",
   "name": "tf2_gpu"
  },
  "language_info": {
   "codemirror_mode": {
    "name": "ipython",
    "version": 3
   },
   "file_extension": ".py",
   "mimetype": "text/x-python",
   "name": "python",
   "nbconvert_exporter": "python",
   "pygments_lexer": "ipython3",
   "version": "3.7.5"
  }
 },
 "nbformat": 4,
 "nbformat_minor": 2
}
