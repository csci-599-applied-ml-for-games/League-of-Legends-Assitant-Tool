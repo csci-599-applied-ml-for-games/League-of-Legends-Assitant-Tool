{
 "cells": [
  {
   "cell_type": "code",
   "execution_count": 1,
   "metadata": {},
   "outputs": [
    {
     "name": "stdout",
     "output_type": "stream",
     "text": [
      "2.0.0\n",
      "sys.version_info(major=3, minor=7, micro=5, releaselevel='final', serial=0)\n",
      "numpy 1.16.4\n",
      "pandas 0.25.3\n",
      "sklearn 0.22\n",
      "tensorflow 2.0.0\n",
      "tensorflow_core.keras 2.2.4-tf\n",
      "Training Images ->  103748\n",
      "Validation Images ->  26640\n",
      "Test Images ->  148\n"
     ]
    }
   ],
   "source": [
    "import numpy as np # linear algebra\n",
    "import pandas as pd # data processing, CSV file I/O (e.g. pd.read_csv)\n",
    "import os\n",
    "import matplotlib.pyplot as plt\n",
    "import sklearn\n",
    "import sys\n",
    "import tensorflow as tf\n",
    "import time\n",
    "import random\n",
    "import pathlib\n",
    "\n",
    "from tensorflow import keras\n",
    "\n",
    "print(tf.__version__)\n",
    "print(sys.version_info)\n",
    "for module in np, pd, sklearn, tf, keras:\n",
    "    print(module.__name__, module.__version__)\n",
    "\n",
    "\n",
    "training_path = pathlib.Path('./lol_data_1/training')\n",
    "validation_path = pathlib.Path('./lol_data_1/valid')\n",
    "test_path = pathlib.Path('./lol_data_1/test')\n",
    "\n",
    "train_image_paths = list(training_path.glob('*/*'))  \n",
    "valid_image_paths = list(validation_path.glob('*/*'))  \n",
    "test_image_paths = list(test_path.glob('*/'))  \n",
    "\n",
    "train_image_paths = [str(path) for path in train_image_paths]\n",
    "valid_image_paths = [str(path) for path in valid_image_paths]\n",
    "test_image_paths = [str(path) for path in test_image_paths]\n",
    "\n",
    "random.shuffle(train_image_paths)\n",
    "random.shuffle(valid_image_paths)\n",
    "random.shuffle(test_image_paths)\n",
    "\n",
    "train_image_count = len(train_image_paths)\n",
    "valid_image_count = len(valid_image_paths)\n",
    "test_image_count = len(test_image_paths)\n",
    "\n",
    "print(\"Training Images -> \", train_image_count)\n",
    "print(\"Validation Images -> \", valid_image_count)\n",
    "print(\"Test Images -> \", test_image_count)"
   ]
  },
  {
   "cell_type": "code",
   "execution_count": 2,
   "metadata": {},
   "outputs": [
    {
     "data": {
      "text/plain": [
       "['lol_data_1\\\\training\\\\Evelynn\\\\19.jpg',\n",
       " 'lol_data_1\\\\training\\\\Heimerdinger\\\\255.jpg',\n",
       " 'lol_data_1\\\\training\\\\Sion\\\\542.jpg',\n",
       " 'lol_data_1\\\\training\\\\Kennen\\\\570.jpg',\n",
       " 'lol_data_1\\\\training\\\\Zoe\\\\431.jpg']"
      ]
     },
     "execution_count": 2,
     "metadata": {},
     "output_type": "execute_result"
    }
   ],
   "source": [
    "train_image_paths[:5]"
   ]
  },
  {
   "cell_type": "code",
   "execution_count": 3,
   "metadata": {},
   "outputs": [
    {
     "data": {
      "text/plain": [
       "['lol_data_1\\\\valid\\\\XinZhao\\\\64.jpg',\n",
       " 'lol_data_1\\\\valid\\\\Irelia\\\\81.jpg',\n",
       " 'lol_data_1\\\\valid\\\\Viktor\\\\48.jpg',\n",
       " 'lol_data_1\\\\valid\\\\Riven\\\\113.jpg',\n",
       " 'lol_data_1\\\\valid\\\\Vayne\\\\68.jpg']"
      ]
     },
     "execution_count": 3,
     "metadata": {},
     "output_type": "execute_result"
    }
   ],
   "source": [
    "valid_image_paths[:5]"
   ]
  },
  {
   "cell_type": "code",
   "execution_count": 4,
   "metadata": {},
   "outputs": [
    {
     "data": {
      "text/plain": [
       "['lol_data_1\\\\test\\\\RekSai.jpg',\n",
       " 'lol_data_1\\\\test\\\\Gangplank.jpg',\n",
       " 'lol_data_1\\\\test\\\\Kled.jpg',\n",
       " 'lol_data_1\\\\test\\\\Ziggs.jpg',\n",
       " 'lol_data_1\\\\test\\\\Katarina.jpg']"
      ]
     },
     "execution_count": 4,
     "metadata": {},
     "output_type": "execute_result"
    }
   ],
   "source": [
    "test_image_paths[:5]"
   ]
  },
  {
   "cell_type": "code",
   "execution_count": 5,
   "metadata": {},
   "outputs": [
    {
     "data": {
      "text/plain": [
       "['Aatrox',\n",
       " 'Ahri',\n",
       " 'Akali',\n",
       " 'Alistar',\n",
       " 'Amumu',\n",
       " 'Anivia',\n",
       " 'Annie',\n",
       " 'Aphelios',\n",
       " 'Ashe',\n",
       " 'AurelionSol',\n",
       " 'Azir',\n",
       " 'Bard',\n",
       " 'Blitzcrank',\n",
       " 'Brand',\n",
       " 'Braum',\n",
       " 'Caitlyn',\n",
       " 'Camille',\n",
       " 'Cassiopeia',\n",
       " 'Chogath',\n",
       " 'Corki',\n",
       " 'Darius',\n",
       " 'Diana',\n",
       " 'DrMundo',\n",
       " 'Draven',\n",
       " 'Ekko',\n",
       " 'Elise',\n",
       " 'Evelynn',\n",
       " 'Ezreal',\n",
       " 'Fiddlesticks',\n",
       " 'Fiora',\n",
       " 'Fizz',\n",
       " 'Galio',\n",
       " 'Gangplank',\n",
       " 'Garen',\n",
       " 'Gnar',\n",
       " 'Gragas',\n",
       " 'Graves',\n",
       " 'Hecarim',\n",
       " 'Heimerdinger',\n",
       " 'Illaoi',\n",
       " 'Irelia',\n",
       " 'Ivern',\n",
       " 'Janna',\n",
       " 'JarvanIV',\n",
       " 'Jax',\n",
       " 'Jayce',\n",
       " 'Jhin',\n",
       " 'Jinx',\n",
       " 'Kaisa',\n",
       " 'Kalista',\n",
       " 'Karma',\n",
       " 'Karthus',\n",
       " 'Kassadin',\n",
       " 'Katarina',\n",
       " 'Kayle',\n",
       " 'Kayn',\n",
       " 'Kennen',\n",
       " 'Khazix',\n",
       " 'Kindred',\n",
       " 'Kled',\n",
       " 'KogMaw',\n",
       " 'Leblanc',\n",
       " 'LeeSin',\n",
       " 'Leona',\n",
       " 'Lissandra',\n",
       " 'Lucian',\n",
       " 'Lulu',\n",
       " 'Lux',\n",
       " 'Malphite',\n",
       " 'Malzahar',\n",
       " 'Maokai',\n",
       " 'MasterYi',\n",
       " 'MissFortune',\n",
       " 'Mordekaiser',\n",
       " 'Morgana',\n",
       " 'Nami',\n",
       " 'Nasus',\n",
       " 'Nautilus',\n",
       " 'Neeko',\n",
       " 'Nidalee',\n",
       " 'Nocturne',\n",
       " 'Nunu',\n",
       " 'Olaf',\n",
       " 'Orianna',\n",
       " 'Ornn',\n",
       " 'Pantheon',\n",
       " 'Poppy',\n",
       " 'Pyke',\n",
       " 'Qiyana',\n",
       " 'Quinn',\n",
       " 'Rakan',\n",
       " 'Rammus',\n",
       " 'RekSai',\n",
       " 'Renekton',\n",
       " 'Rengar',\n",
       " 'Riven',\n",
       " 'Rumble',\n",
       " 'Ryze',\n",
       " 'Sejuani',\n",
       " 'Senna',\n",
       " 'Sett',\n",
       " 'Shaco',\n",
       " 'Shen',\n",
       " 'Shyvana',\n",
       " 'Singed',\n",
       " 'Sion',\n",
       " 'Sivir',\n",
       " 'Skarner',\n",
       " 'Sona',\n",
       " 'Soraka',\n",
       " 'Swain',\n",
       " 'Sylas',\n",
       " 'Syndra',\n",
       " 'TahmKench',\n",
       " 'Taliyah',\n",
       " 'Talon',\n",
       " 'Taric',\n",
       " 'Teemo',\n",
       " 'Thresh',\n",
       " 'Tristana',\n",
       " 'Trundle',\n",
       " 'Tryndamere',\n",
       " 'TwistedFate',\n",
       " 'Twitch',\n",
       " 'Udyr',\n",
       " 'Urgot',\n",
       " 'Varus',\n",
       " 'Vayne',\n",
       " 'Veigar',\n",
       " 'Velkoz',\n",
       " 'Vi',\n",
       " 'Viktor',\n",
       " 'Vladimir',\n",
       " 'Volibear',\n",
       " 'Warwick',\n",
       " 'Wukong',\n",
       " 'Xayah',\n",
       " 'Xerath',\n",
       " 'XinZhao',\n",
       " 'Yasuo',\n",
       " 'Yorick',\n",
       " 'Yuumi',\n",
       " 'Zac',\n",
       " 'Zed',\n",
       " 'Ziggs',\n",
       " 'Zilean',\n",
       " 'Zoe',\n",
       " 'Zyra']"
      ]
     },
     "execution_count": 5,
     "metadata": {},
     "output_type": "execute_result"
    }
   ],
   "source": [
    "label_names = sorted(item.name for item in training_path.glob('*/') if item.is_dir())\n",
    "label_names"
   ]
  },
  {
   "cell_type": "code",
   "execution_count": 6,
   "metadata": {},
   "outputs": [
    {
     "name": "stdout",
     "output_type": "stream",
     "text": [
      "lol_data_1\\training\\Evelynn\\19.jpg  --->   Evelynn\n",
      "lol_data_1\\training\\Heimerdinger\\255.jpg  --->   Heimerdinger\n",
      "lol_data_1\\training\\Sion\\542.jpg  --->   Sion\n",
      "lol_data_1\\training\\Kennen\\570.jpg  --->   Kennen\n",
      "lol_data_1\\training\\Zoe\\431.jpg  --->   Zoe\n"
     ]
    }
   ],
   "source": [
    "training_image_labels = [pathlib.Path(path).parent.name for path in train_image_paths]\n",
    "for image, label in zip(train_image_paths[:5], training_image_labels[:5]):\n",
    "    print(image, ' --->  ', label)"
   ]
  },
  {
   "cell_type": "code",
   "execution_count": 7,
   "metadata": {},
   "outputs": [],
   "source": [
    "train_labels_info = []\n",
    "for image_path, label in zip(train_image_paths, training_image_labels):\n",
    "    train_labels_info.append((image_path, label))"
   ]
  },
  {
   "cell_type": "code",
   "execution_count": 8,
   "metadata": {},
   "outputs": [
    {
     "name": "stdout",
     "output_type": "stream",
     "text": [
      "[('lol_data_1\\\\training\\\\Evelynn\\\\19.jpg', 'Evelynn'),\n",
      " ('lol_data_1\\\\training\\\\Heimerdinger\\\\255.jpg', 'Heimerdinger'),\n",
      " ('lol_data_1\\\\training\\\\Sion\\\\542.jpg', 'Sion'),\n",
      " ('lol_data_1\\\\training\\\\Kennen\\\\570.jpg', 'Kennen'),\n",
      " ('lol_data_1\\\\training\\\\Zoe\\\\431.jpg', 'Zoe')]\n"
     ]
    }
   ],
   "source": [
    "import pprint\n",
    "pprint.pprint(train_labels_info[:5])"
   ]
  },
  {
   "cell_type": "code",
   "execution_count": 9,
   "metadata": {},
   "outputs": [
    {
     "name": "stdout",
     "output_type": "stream",
     "text": [
      "lol_data_1\\valid\\XinZhao\\64.jpg  --->   XinZhao\n",
      "lol_data_1\\valid\\Irelia\\81.jpg  --->   Irelia\n",
      "lol_data_1\\valid\\Viktor\\48.jpg  --->   Viktor\n",
      "lol_data_1\\valid\\Riven\\113.jpg  --->   Riven\n",
      "lol_data_1\\valid\\Vayne\\68.jpg  --->   Vayne\n"
     ]
    }
   ],
   "source": [
    "valid_image_labels = [pathlib.Path(path).parent.name for path in valid_image_paths]\n",
    "for image, label in zip(valid_image_paths[:5], valid_image_labels[:5]):\n",
    "    print(image, ' --->  ', label)"
   ]
  },
  {
   "cell_type": "code",
   "execution_count": 10,
   "metadata": {},
   "outputs": [],
   "source": [
    "valid_labels_info = []\n",
    "for image_path, label in zip(valid_image_paths, valid_image_labels):\n",
    "    valid_labels_info.append((image_path, label))"
   ]
  },
  {
   "cell_type": "code",
   "execution_count": 11,
   "metadata": {},
   "outputs": [
    {
     "name": "stdout",
     "output_type": "stream",
     "text": [
      "[('lol_data_1\\\\valid\\\\XinZhao\\\\64.jpg', 'XinZhao'),\n",
      " ('lol_data_1\\\\valid\\\\Irelia\\\\81.jpg', 'Irelia'),\n",
      " ('lol_data_1\\\\valid\\\\Viktor\\\\48.jpg', 'Viktor'),\n",
      " ('lol_data_1\\\\valid\\\\Riven\\\\113.jpg', 'Riven'),\n",
      " ('lol_data_1\\\\valid\\\\Vayne\\\\68.jpg', 'Vayne')]\n"
     ]
    }
   ],
   "source": [
    "pprint.pprint(valid_labels_info[:5])"
   ]
  },
  {
   "cell_type": "code",
   "execution_count": 12,
   "metadata": {},
   "outputs": [
    {
     "name": "stdout",
     "output_type": "stream",
     "text": [
      "lol_data_1\\test\\RekSai.jpg  --->   RekSai\n",
      "lol_data_1\\test\\Gangplank.jpg  --->   Gangplank\n",
      "lol_data_1\\test\\Kled.jpg  --->   Kled\n",
      "lol_data_1\\test\\Ziggs.jpg  --->   Ziggs\n",
      "lol_data_1\\test\\Katarina.jpg  --->   Katarina\n"
     ]
    }
   ],
   "source": [
    "test_image_labels = [path.split('\\\\')[2].split('.')[0] for path in test_image_paths]\n",
    "for image, label in zip(test_image_paths[:5], test_image_labels[:5]):\n",
    "    print(image, ' --->  ', label)"
   ]
  },
  {
   "cell_type": "code",
   "execution_count": 13,
   "metadata": {},
   "outputs": [],
   "source": [
    "test_labels_info = []\n",
    "for image_path, label in zip(test_image_paths, test_image_labels):\n",
    "    test_labels_info.append((image_path, label))"
   ]
  },
  {
   "cell_type": "code",
   "execution_count": 14,
   "metadata": {},
   "outputs": [
    {
     "name": "stdout",
     "output_type": "stream",
     "text": [
      "                                   filepath         class\n",
      "0        lol_data_1\\training\\Evelynn\\19.jpg       Evelynn\n",
      "1  lol_data_1\\training\\Heimerdinger\\255.jpg  Heimerdinger\n",
      "2          lol_data_1\\training\\Sion\\542.jpg          Sion\n",
      "3        lol_data_1\\training\\Kennen\\570.jpg        Kennen\n",
      "4           lol_data_1\\training\\Zoe\\431.jpg           Zoe\n",
      "                          filepath    class\n",
      "0  lol_data_1\\valid\\XinZhao\\64.jpg  XinZhao\n",
      "1   lol_data_1\\valid\\Irelia\\81.jpg   Irelia\n",
      "2   lol_data_1\\valid\\Viktor\\48.jpg   Viktor\n",
      "3   lol_data_1\\valid\\Riven\\113.jpg    Riven\n",
      "4    lol_data_1\\valid\\Vayne\\68.jpg    Vayne\n",
      "                        filepath      class\n",
      "0     lol_data_1\\test\\RekSai.jpg     RekSai\n",
      "1  lol_data_1\\test\\Gangplank.jpg  Gangplank\n",
      "2       lol_data_1\\test\\Kled.jpg       Kled\n",
      "3      lol_data_1\\test\\Ziggs.jpg      Ziggs\n",
      "4   lol_data_1\\test\\Katarina.jpg   Katarina\n"
     ]
    }
   ],
   "source": [
    "train_df = pd.DataFrame(train_labels_info)\n",
    "valid_df = pd.DataFrame(valid_labels_info)\n",
    "test_df = pd.DataFrame(test_labels_info)\n",
    "\n",
    "train_df.columns = valid_df.columns =test_df.columns = ['filepath', 'class']\n",
    "\n",
    "print(train_df.head())\n",
    "print(valid_df.head())\n",
    "print(test_df.head())"
   ]
  },
  {
   "cell_type": "code",
   "execution_count": 15,
   "metadata": {},
   "outputs": [
    {
     "name": "stdout",
     "output_type": "stream",
     "text": [
      "Found 103748 validated image filenames belonging to 148 classes.\n",
      "Found 26640 validated image filenames belonging to 148 classes.\n",
      "Found 147 validated image filenames belonging to 148 classes.\n"
     ]
    }
   ],
   "source": [
    "height = 64\n",
    "width = 64\n",
    "channels = 3\n",
    "batch_size = 128\n",
    "num_classes = 148\n",
    "\n",
    "train_datagen = keras.preprocessing.image.ImageDataGenerator(\n",
    "    #像素值 都除以255\n",
    "    rescale = 1./255,\n",
    "    # 图片随机旋转 (5度以内)\n",
    "    rotation_range = 20,\n",
    "    # 图片左右位移  20%限度以内\n",
    "    width_shift_range = 0.2,\n",
    "    # 图片上下位移  20%限度以内\n",
    "    height_shift_range = 0.2,\n",
    "    # 图像剪切强度\n",
    "    shear_range = 0.2,\n",
    "    # 图像缩放强度\n",
    "    zoom_range = 0.2,\n",
    "    # 是否水平翻转\n",
    "    horizontal_flip = False,\n",
    "    # 放大缩小吼， 像素填充方式\n",
    "    fill_mode = 'nearest',\n",
    ")\n",
    "\n",
    "train_generator = train_datagen.flow_from_dataframe(train_df, directory = './',\n",
    "                                                    x_col = 'filepath',\n",
    "                                                    y_col = 'class',\n",
    "                                                    classes = label_names,\n",
    "                                                    target_size = (height, width),\n",
    "                                                    batch_size = batch_size,\n",
    "                                                    seed = 2333,\n",
    "                                                    shuffle = True,\n",
    "                                                    class_mode = \"categorical\")\n",
    "\n",
    "valid_datagen = keras.preprocessing.image.ImageDataGenerator(\n",
    "    rescale = 1./255,\n",
    ")\n",
    "valid_generator = valid_datagen.flow_from_dataframe(valid_df, directory = './',\n",
    "                                                    x_col = 'filepath',\n",
    "                                                    y_col = 'class',\n",
    "                                                    classes = label_names,\n",
    "                                                    target_size = (height, width),\n",
    "                                                    batch_size = batch_size,\n",
    "                                                    seed = 666,\n",
    "                                                    shuffle = True,\n",
    "                                                    class_mode = \"categorical\")\n",
    "\n",
    "test_datagen = keras.preprocessing.image.ImageDataGenerator(\n",
    "    rescale = 1./255,\n",
    ")\n",
    "test_generator = test_datagen.flow_from_dataframe(test_df, directory = './',\n",
    "                                                    x_col = 'filepath',\n",
    "                                                    y_col = 'class',\n",
    "                                                    classes = label_names,\n",
    "                                                    target_size = (height, width),\n",
    "                                                    batch_size = batch_size,\n",
    "                                                    seed = 9727,\n",
    "                                                    shuffle = True,\n",
    "                                                    class_mode = \"categorical\")"
   ]
  },
  {
   "cell_type": "code",
   "execution_count": 16,
   "metadata": {},
   "outputs": [
    {
     "name": "stdout",
     "output_type": "stream",
     "text": [
      "Training Generator Sample ->  103748\n",
      "Validation Generator Sample ->  26640\n",
      "Test Generator Sample ->  147\n"
     ]
    }
   ],
   "source": [
    "train_num = train_generator.samples\n",
    "valid_num = valid_generator.samples\n",
    "test_num = test_generator.samples\n",
    "\n",
    "print(\"Training Generator Sample -> \", train_num)\n",
    "print(\"Validation Generator Sample -> \", valid_num)\n",
    "print(\"Test Generator Sample -> \", test_num)"
   ]
  },
  {
   "cell_type": "code",
   "execution_count": 17,
   "metadata": {},
   "outputs": [
    {
     "name": "stdout",
     "output_type": "stream",
     "text": [
      "(64, 64, 64, 3) (64, 148)\n",
      "[[0. 0. 0. ... 0. 0. 0.]\n",
      " [0. 0. 0. ... 0. 0. 0.]\n",
      " [0. 0. 0. ... 0. 0. 0.]\n",
      " ...\n",
      " [0. 0. 0. ... 0. 0. 0.]\n",
      " [0. 0. 0. ... 0. 0. 0.]\n",
      " [0. 0. 0. ... 0. 0. 0.]]\n",
      "(64, 64, 64, 3) (64, 148)\n",
      "[[0. 0. 0. ... 0. 0. 0.]\n",
      " [0. 0. 0. ... 0. 0. 0.]\n",
      " [0. 0. 0. ... 0. 0. 0.]\n",
      " ...\n",
      " [0. 0. 0. ... 0. 0. 0.]\n",
      " [0. 0. 0. ... 1. 0. 0.]\n",
      " [0. 0. 0. ... 0. 0. 0.]]\n"
     ]
    }
   ],
   "source": [
    "for i in range(2):\n",
    "    x, y = train_generator.next()\n",
    "    print(x.shape, y.shape)\n",
    "    print(y)"
   ]
  },
  {
   "cell_type": "code",
   "execution_count": 18,
   "metadata": {},
   "outputs": [
    {
     "name": "stdout",
     "output_type": "stream",
     "text": [
      "Model: \"sequential\"\n",
      "_________________________________________________________________\n",
      "Layer (type)                 Output Shape              Param #   \n",
      "=================================================================\n",
      "conv2d (Conv2D)              (None, 64, 64, 16)        448       \n",
      "_________________________________________________________________\n",
      "conv2d_1 (Conv2D)            (None, 64, 64, 16)        2320      \n",
      "_________________________________________________________________\n",
      "max_pooling2d (MaxPooling2D) (None, 32, 32, 16)        0         \n",
      "_________________________________________________________________\n",
      "conv2d_2 (Conv2D)            (None, 32, 32, 32)        4640      \n",
      "_________________________________________________________________\n",
      "conv2d_3 (Conv2D)            (None, 32, 32, 32)        9248      \n",
      "_________________________________________________________________\n",
      "max_pooling2d_1 (MaxPooling2 (None, 16, 16, 32)        0         \n",
      "_________________________________________________________________\n",
      "conv2d_4 (Conv2D)            (None, 16, 16, 64)        18496     \n",
      "_________________________________________________________________\n",
      "conv2d_5 (Conv2D)            (None, 16, 16, 64)        36928     \n",
      "_________________________________________________________________\n",
      "max_pooling2d_2 (MaxPooling2 (None, 8, 8, 64)          0         \n",
      "_________________________________________________________________\n",
      "flatten (Flatten)            (None, 4096)              0         \n",
      "_________________________________________________________________\n",
      "dense (Dense)                (None, 128)               524416    \n",
      "_________________________________________________________________\n",
      "alpha_dropout (AlphaDropout) (None, 128)               0         \n",
      "_________________________________________________________________\n",
      "dense_1 (Dense)              (None, 148)               19092     \n",
      "=================================================================\n",
      "Total params: 615,588\n",
      "Trainable params: 615,588\n",
      "Non-trainable params: 0\n",
      "_________________________________________________________________\n"
     ]
    }
   ],
   "source": [
    "model = keras.models.Sequential([\n",
    "    \n",
    "    keras.layers.Conv2D(filters=16, kernel_size = 3, padding='same',\n",
    "                       activation = 'selu', input_shape = [width, height, channels]),\n",
    "    keras.layers.Conv2D(filters=16, kernel_size = 3, \n",
    "                        padding='same', activation = 'selu'),\n",
    "    keras.layers.MaxPool2D(pool_size=2),\n",
    "    \n",
    "    keras.layers.Conv2D(filters=32, kernel_size = 3, \n",
    "                        padding='same', activation = 'selu'),\n",
    "    keras.layers.Conv2D(filters=32, kernel_size = 3, \n",
    "                        padding='same', activation = 'selu'),\n",
    "    keras.layers.MaxPool2D(pool_size=2),\n",
    "    \n",
    "    keras.layers.Conv2D(filters=64, kernel_size = 3, padding='same',\n",
    "                       activation = 'selu', input_shape = [width, height, channels]),\n",
    "    keras.layers.Conv2D(filters=64, kernel_size = 3, \n",
    "                        padding='same', activation = 'selu'),\n",
    "    keras.layers.MaxPool2D(pool_size=2),\n",
    "    \n",
    "    keras.layers.Flatten(),\n",
    "    keras.layers.Dense(128, activation = 'selu'),\n",
    "    keras.layers.AlphaDropout(rate=0.5),\n",
    "    \n",
    "    keras.layers.Dense(num_classes, activation = 'softmax')\n",
    "])\n",
    "\n",
    "model.compile(loss=\"categorical_crossentropy\",\n",
    "             optimizer = \"adam\", metrics = ['accuracy'])\n",
    "\n",
    "model.summary()"
   ]
  },
  {
   "cell_type": "code",
   "execution_count": 19,
   "metadata": {},
   "outputs": [],
   "source": [
    "logdir = './lol-callbacks'\n",
    "if not os.path.exists(logdir):\n",
    "    os.mkdir(logdir)\n",
    "\n",
    "output_model_file = os.path.join(logdir, \"face_recognition_model.h5\")\n",
    "\n",
    "callbacks = [\n",
    "    keras.callbacks.ModelCheckpoint(output_model_file, save_best_only=True),\n",
    "    keras.callbacks.EarlyStopping(patience=5, min_delta=1e-3)\n",
    "]"
   ]
  },
  {
   "cell_type": "code",
   "execution_count": 20,
   "metadata": {},
   "outputs": [
    {
     "name": "stdout",
     "output_type": "stream",
     "text": [
      "Epoch 1/20\n",
      "1621/1621 [==============================] - 503s 310ms/step - loss: 1.2871 - accuracy: 0.6726 - val_loss: 0.6152 - val_accuracy: 0.9082\n",
      "Epoch 2/20\n",
      "1621/1621 [==============================] - 372s 229ms/step - loss: 0.4199 - accuracy: 0.8781 - val_loss: 0.2512 - val_accuracy: 0.9541\n",
      "Epoch 3/20\n",
      "1621/1621 [==============================] - 190s 117ms/step - loss: 0.3191 - accuracy: 0.9081 - val_loss: 0.2824 - val_accuracy: 0.9559\n",
      "Epoch 4/20\n",
      "1621/1621 [==============================] - 191s 118ms/step - loss: 0.2808 - accuracy: 0.9221 - val_loss: 0.0569 - val_accuracy: 0.9881\n",
      "Epoch 5/20\n",
      "1621/1621 [==============================] - 195s 120ms/step - loss: 0.2651 - accuracy: 0.9292 - val_loss: 0.0849 - val_accuracy: 0.9892\n",
      "Epoch 6/20\n",
      "1621/1621 [==============================] - 197s 121ms/step - loss: 0.2524 - accuracy: 0.9348 - val_loss: 0.0618 - val_accuracy: 0.9912\n",
      "Epoch 7/20\n",
      "1621/1621 [==============================] - 190s 117ms/step - loss: 0.2374 - accuracy: 0.9402 - val_loss: 0.2136 - val_accuracy: 0.9740\n",
      "Epoch 8/20\n",
      "1621/1621 [==============================] - 188s 116ms/step - loss: 0.2588 - accuracy: 0.9399 - val_loss: 0.0404 - val_accuracy: 0.9935\n",
      "Epoch 9/20\n",
      "1621/1621 [==============================] - 193s 119ms/step - loss: 0.2324 - accuracy: 0.9466 - val_loss: 0.1379 - val_accuracy: 0.9845\n",
      "Epoch 10/20\n",
      "1621/1621 [==============================] - 191s 118ms/step - loss: 0.2525 - accuracy: 0.9447 - val_loss: 0.0142 - val_accuracy: 0.9976\n",
      "Epoch 11/20\n",
      "1621/1621 [==============================] - 179s 110ms/step - loss: 0.2497 - accuracy: 0.9483 - val_loss: 0.0272 - val_accuracy: 0.9959\n",
      "Epoch 12/20\n",
      "1621/1621 [==============================] - 180s 111ms/step - loss: 0.2494 - accuracy: 0.9502 - val_loss: 0.2849 - val_accuracy: 0.9740\n",
      "Epoch 13/20\n",
      "1621/1621 [==============================] - 178s 110ms/step - loss: 0.2695 - accuracy: 0.9497 - val_loss: 0.0154 - val_accuracy: 0.9982\n",
      "Epoch 14/20\n",
      "1621/1621 [==============================] - 181s 112ms/step - loss: 0.2703 - accuracy: 0.9528 - val_loss: 0.0601 - val_accuracy: 0.9935\n",
      "Epoch 15/20\n",
      "1621/1621 [==============================] - 177s 109ms/step - loss: 0.2776 - accuracy: 0.9537 - val_loss: 0.0766 - val_accuracy: 0.9931\n",
      "Epoch 16/20\n",
      "1621/1621 [==============================] - 178s 110ms/step - loss: 0.2946 - accuracy: 0.9533 - val_loss: 0.1186 - val_accuracy: 0.9891\n",
      "Epoch 17/20\n",
      "1621/1621 [==============================] - 178s 110ms/step - loss: 0.3003 - accuracy: 0.9549 - val_loss: 0.0211 - val_accuracy: 0.9978\n",
      "Epoch 18/20\n",
      "1621/1621 [==============================] - 181s 111ms/step - loss: 0.3090 - accuracy: 0.9550 - val_loss: 0.1189 - val_accuracy: 0.9888\n",
      "Epoch 19/20\n",
      "1621/1621 [==============================] - 178s 110ms/step - loss: 0.3321 - accuracy: 0.9572 - val_loss: 0.0788 - val_accuracy: 0.9926\n",
      "Epoch 20/20\n",
      "1621/1621 [==============================] - 179s 110ms/step - loss: 0.3316 - accuracy: 0.9569 - val_loss: 0.0200 - val_accuracy: 0.9981\n"
     ]
    }
   ],
   "source": [
    "epochs = 20\n",
    "#因为数据是generator 产生的 所以不能用fit函数\n",
    "history = model.fit_generator(train_generator, steps_per_epoch=train_num // batch_size,\n",
    "                             epochs=epochs, validation_data=valid_generator,\n",
    "                             validation_steps=valid_num//batch_size)"
   ]
  },
  {
   "cell_type": "code",
   "execution_count": 21,
   "metadata": {},
   "outputs": [],
   "source": [
    "def plot_learning_curves(history, label, epochs, min_value, max_value):\n",
    "    data = {}\n",
    "    data[label] = history.history[label]\n",
    "    data['val_'+label] = history.history['val_' + label]\n",
    "    \n",
    "    pd.DataFrame(data).plot(figsize = (8,5))\n",
    "    plt.grid(True)\n",
    "    plt.axis([0, epochs, min_value, max_value])\n",
    "    plt.show()"
   ]
  },
  {
   "cell_type": "code",
   "execution_count": 22,
   "metadata": {},
   "outputs": [
    {
     "data": {
      "image/png": "[encoded data removed]",
      "text/plain": [
       "<Figure size 576x360 with 1 Axes>"
      ]
     },
     "metadata": {
      "needs_background": "light"
     },
     "output_type": "display_data"
    }
   ],
   "source": [
    "plot_learning_curves(history, 'accuracy', epochs, 0, 1)"
   ]
  },
  {
   "cell_type": "code",
   "execution_count": 23,
   "metadata": {},
   "outputs": [
    {
     "data": {
      "image/png": "[encoded data removed]",
      "text/plain": [
       "<Figure size 576x360 with 1 Axes>"
      ]
     },
     "metadata": {
      "needs_background": "light"
     },
     "output_type": "display_data"
    }
   ],
   "source": [
    "plot_learning_curves(history, 'loss', epochs, 0, 2)"
   ]
  },
  {
   "cell_type": "code",
   "execution_count": 24,
   "metadata": {},
   "outputs": [],
   "source": [
    "def load_and_preprocess_single_img(path):\n",
    "    # read the img through file path\n",
    "    image = tf.io.read_file(path)  \n",
    "    image = tf.image.decode_jpeg(image, channels=3)\n",
    "    # 原始图片大小为(128, 128, 3)，重设为(64, 64)\n",
    "    image = tf.image.resize(image, [64, 64])  \n",
    "    image = tf.cast(image, tf.float32) / 255.0  # 归一化到[0,1]范围\n",
    "    image = np.expand_dims(image, axis = 0) # since you have batch_size, so you need to expand your image\n",
    "    return image"
   ]
  },
  {
   "cell_type": "code",
   "execution_count": 25,
   "metadata": {},
   "outputs": [],
   "source": [
    "def evaluate_single_pic(path, show=False):\n",
    "    \n",
    "    if show:\n",
    "        import matplotlib.image as mpimg\n",
    "        plt.imshow(mpimg.imread(path))\n",
    "    image = load_and_preprocess_single_img(path)\n",
    "    predict_result = model.predict(image)\n",
    "    print(\"This is\", label_names[np.argmax(predict_result, axis=1)[0]])"
   ]
  },
  {
   "cell_type": "code",
   "execution_count": 48,
   "metadata": {},
   "outputs": [
    {
     "name": "stdout",
     "output_type": "stream",
     "text": [
      "This is Leona\n"
     ]
    },
    {
     "data": {
      "image/png": "[encoded data removed]",
      "text/plain": [
       "<Figure size 432x288 with 1 Axes>"
      ]
     },
     "metadata": {
      "needs_background": "light"
     },
     "output_type": "display_data"
    }
   ],
   "source": [
    "test_pic_path = \"./lol_data_1/test_2/13.png\"\n",
    "evaluate_single_pic(test_pic_path, True)"
   ]
  },
  {
   "cell_type": "code",
   "execution_count": 34,
   "metadata": {},
   "outputs": [
    {
     "name": "stdout",
     "output_type": "stream",
     "text": [
      "This is Caitlyn\n"
     ]
    },
    {
     "data": {
      "image/png": "[encoded data removed]",
      "text/plain": [
       "<Figure size 432x288 with 1 Axes>"
      ]
     },
     "metadata": {
      "needs_background": "light"
     },
     "output_type": "display_data"
    }
   ],
   "source": [
    "test_pic_path2 = \"./lol_data_1/test_2/2.png\"\n",
    "evaluate_single_pic(test_pic_path2, True)"
   ]
  },
  {
   "cell_type": "code",
   "execution_count": null,
   "metadata": {},
   "outputs": [],
   "source": [
    "test_accuracy = model.evaluate(test_generator)\n",
    "print(test_accuracy)"
   ]
  }
 ],
 "metadata": {
  "kernelspec": {
   "display_name": "TensorFlow-GPU",
   "language": "python",
   "name": "tf2_gpu"
  },
  "language_info": {
   "codemirror_mode": {
    "name": "ipython",
    "version": 3
   },
   "file_extension": ".py",
   "mimetype": "text/x-python",
   "name": "python",
   "nbconvert_exporter": "python",
   "pygments_lexer": "ipython3",
   "version": "3.7.5"
  }
 },
 "nbformat": 4,
 "nbformat_minor": 2
}
