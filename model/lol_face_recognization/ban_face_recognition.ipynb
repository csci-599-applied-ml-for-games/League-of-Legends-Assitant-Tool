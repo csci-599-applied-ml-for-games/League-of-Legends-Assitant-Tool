{
 "cells": [
  {
   "cell_type": "code",
   "execution_count": 1,
   "metadata": {},
   "outputs": [
    {
     "name": "stdout",
     "output_type": "stream",
     "text": [
      "2.0.0\n",
      "sys.version_info(major=3, minor=7, micro=5, releaselevel='final', serial=0)\n",
      "numpy 1.16.4\n",
      "pandas 0.25.3\n",
      "sklearn 0.22\n",
      "tensorflow 2.0.0\n",
      "tensorflow_core.keras 2.2.4-tf\n",
      "Training Images ->  104908\n",
      "Validation Images ->  27800\n"
     ]
    }
   ],
   "source": [
    "import numpy as np\n",
    "import pandas as pd \n",
    "import os\n",
    "import matplotlib.pyplot as plt\n",
    "import sklearn\n",
    "import sys\n",
    "import tensorflow as tf\n",
    "import time\n",
    "import random\n",
    "import pathlib\n",
    "\n",
    "from tensorflow import keras\n",
    "\n",
    "print(tf.__version__)\n",
    "print(sys.version_info)\n",
    "for module in np, pd, sklearn, tf, keras:\n",
    "    print(module.__name__, module.__version__)\n",
    "\n",
    "\n",
    "training_path = pathlib.Path('./ban_face_dataset/training')\n",
    "validation_path = pathlib.Path('./ban_face_dataset/valid')\n",
    "\n",
    "train_image_paths = list(training_path.glob('*/*'))  \n",
    "valid_image_paths = list(validation_path.glob('*/*'))  \n",
    "\n",
    "train_image_paths = [str(path) for path in train_image_paths]\n",
    "valid_image_paths = [str(path) for path in valid_image_paths]\n",
    "\n",
    "random.shuffle(train_image_paths)\n",
    "random.shuffle(valid_image_paths)\n",
    "train_image_count = len(train_image_paths)\n",
    "valid_image_count = len(valid_image_paths)\n",
    "\n",
    "print(\"Training Images -> \", train_image_count)\n",
    "print(\"Validation Images -> \", valid_image_count)"
   ]
  },
  {
   "cell_type": "code",
   "execution_count": 2,
   "metadata": {},
   "outputs": [
    {
     "data": {
      "text/plain": [
       "['ban_face_dataset\\\\training\\\\Ornn\\\\630.jpg',\n",
       " 'ban_face_dataset\\\\training\\\\Irelia\\\\290.jpg',\n",
       " 'ban_face_dataset\\\\training\\\\Zyra\\\\560.jpg',\n",
       " 'ban_face_dataset\\\\training\\\\Illaoi\\\\233.jpg',\n",
       " 'ban_face_dataset\\\\training\\\\Annie\\\\190.jpg']"
      ]
     },
     "execution_count": 2,
     "metadata": {},
     "output_type": "execute_result"
    }
   ],
   "source": [
    "train_image_paths[:5]"
   ]
  },
  {
   "cell_type": "code",
   "execution_count": 3,
   "metadata": {},
   "outputs": [
    {
     "data": {
      "text/plain": [
       "['ban_face_dataset\\\\valid\\\\Karthus\\\\20.jpg',\n",
       " 'ban_face_dataset\\\\valid\\\\Braum\\\\150.jpg',\n",
       " 'ban_face_dataset\\\\valid\\\\Zoe\\\\135.jpg',\n",
       " 'ban_face_dataset\\\\valid\\\\Karma\\\\20.jpg',\n",
       " 'ban_face_dataset\\\\valid\\\\Twitch\\\\129.jpg']"
      ]
     },
     "execution_count": 3,
     "metadata": {},
     "output_type": "execute_result"
    }
   ],
   "source": [
    "valid_image_paths[:5]"
   ]
  },
  {
   "cell_type": "code",
   "execution_count": 4,
   "metadata": {},
   "outputs": [
    {
     "data": {
      "text/plain": [
       "['Aatrox',\n",
       " 'Ahri',\n",
       " 'Akali',\n",
       " 'Alistar',\n",
       " 'Amumu',\n",
       " 'Anivia',\n",
       " 'Annie',\n",
       " 'Aphelios',\n",
       " 'Ashe',\n",
       " 'Aurelion Sol',\n",
       " 'Azir',\n",
       " 'Bard',\n",
       " 'Blitzcrank',\n",
       " 'Brand',\n",
       " 'Braum',\n",
       " 'Caitlyn',\n",
       " 'Camille',\n",
       " 'Cassiopeia',\n",
       " \"Cho'Gath\",\n",
       " 'Corki',\n",
       " 'Darius',\n",
       " 'Diana',\n",
       " 'Dr. Mundo',\n",
       " 'Draven',\n",
       " 'Ekko',\n",
       " 'Elise',\n",
       " 'Evelynn',\n",
       " 'Ezreal',\n",
       " 'Fiddlesticks',\n",
       " 'Fiora',\n",
       " 'Fizz',\n",
       " 'Galio',\n",
       " 'Gangplank',\n",
       " 'Garen',\n",
       " 'Gnar',\n",
       " 'Gragas',\n",
       " 'Graves',\n",
       " 'Hecarim',\n",
       " 'Heimerdinger',\n",
       " 'Illaoi',\n",
       " 'Irelia',\n",
       " 'Ivern',\n",
       " 'Janna',\n",
       " 'Jarvan IV',\n",
       " 'Jax',\n",
       " 'Jayce',\n",
       " 'Jhin',\n",
       " 'Jinx',\n",
       " \"Kai'Sa\",\n",
       " 'Kalista',\n",
       " 'Karma',\n",
       " 'Karthus',\n",
       " 'Kassadin',\n",
       " 'Katarina',\n",
       " 'Kayle',\n",
       " 'Kayn',\n",
       " 'Kennen',\n",
       " \"Kha'Zix\",\n",
       " 'Kindred',\n",
       " 'Kled',\n",
       " \"Kog'Maw\",\n",
       " 'LeBlanc',\n",
       " 'Lee Sin',\n",
       " 'Leona',\n",
       " 'Lissandra',\n",
       " 'Lucian',\n",
       " 'Lulu',\n",
       " 'Lux',\n",
       " 'Malphite',\n",
       " 'Malzahar',\n",
       " 'Maokai',\n",
       " 'Master Yi',\n",
       " 'Miss Fortune',\n",
       " 'Mordekaiser',\n",
       " 'Morgana',\n",
       " 'Nami',\n",
       " 'Nasus',\n",
       " 'Nautilus',\n",
       " 'Neeko',\n",
       " 'Nidalee',\n",
       " 'Nocturne',\n",
       " 'None',\n",
       " 'None2',\n",
       " 'Nothing',\n",
       " 'Nunu & Willump',\n",
       " 'Olaf',\n",
       " 'Orianna',\n",
       " 'Ornn',\n",
       " 'Pantheon',\n",
       " 'Poppy',\n",
       " 'Pyke',\n",
       " 'Qiyana',\n",
       " 'Quinn',\n",
       " 'Rakan',\n",
       " 'Rammus',\n",
       " \"Rek'Sai\",\n",
       " 'Renekton',\n",
       " 'Rengar',\n",
       " 'Riven',\n",
       " 'Rumble',\n",
       " 'Ryze',\n",
       " 'Sejuani',\n",
       " 'Senna',\n",
       " 'Sett',\n",
       " 'Shaco',\n",
       " 'Shen',\n",
       " 'Shyvana',\n",
       " 'Singed',\n",
       " 'Sion',\n",
       " 'Sivir',\n",
       " 'Skarner',\n",
       " 'Sona',\n",
       " 'Soraka',\n",
       " 'Swain',\n",
       " 'Sylas',\n",
       " 'Syndra',\n",
       " 'Tahm Kench',\n",
       " 'Taliyah',\n",
       " 'Talon',\n",
       " 'Taric',\n",
       " 'Teemo',\n",
       " 'Thresh',\n",
       " 'Tristana',\n",
       " 'Trundle',\n",
       " 'Tryndamere',\n",
       " 'Twisted Fate',\n",
       " 'Twitch',\n",
       " 'Udyr',\n",
       " 'Urgot',\n",
       " 'Varus',\n",
       " 'Vayne',\n",
       " 'Veigar',\n",
       " \"Vel'Koz\",\n",
       " 'Vi',\n",
       " 'Viktor',\n",
       " 'Vladimir',\n",
       " 'Volibear',\n",
       " 'Warwick',\n",
       " 'Wukong',\n",
       " 'Xayah',\n",
       " 'Xerath',\n",
       " 'Xin Zhao',\n",
       " 'Yasuo',\n",
       " 'Yorick',\n",
       " 'Yuumi',\n",
       " 'Zac',\n",
       " 'Zed',\n",
       " 'Ziggs',\n",
       " 'Zilean',\n",
       " 'Zoe',\n",
       " 'Zyra']"
      ]
     },
     "execution_count": 4,
     "metadata": {},
     "output_type": "execute_result"
    }
   ],
   "source": [
    "label_names = sorted(item.name for item in training_path.glob('*/') if item.is_dir())\n",
    "label_names"
   ]
  },
  {
   "cell_type": "code",
   "execution_count": 5,
   "metadata": {},
   "outputs": [
    {
     "name": "stdout",
     "output_type": "stream",
     "text": [
      "ban_face_dataset\\training\\Ornn\\630.jpg  --->   Ornn\n",
      "ban_face_dataset\\training\\Irelia\\290.jpg  --->   Irelia\n",
      "ban_face_dataset\\training\\Zyra\\560.jpg  --->   Zyra\n",
      "ban_face_dataset\\training\\Illaoi\\233.jpg  --->   Illaoi\n",
      "ban_face_dataset\\training\\Annie\\190.jpg  --->   Annie\n"
     ]
    }
   ],
   "source": [
    "training_image_labels = [pathlib.Path(path).parent.name for path in train_image_paths]\n",
    "for image, label in zip(train_image_paths[:5], training_image_labels[:5]):\n",
    "    print(image, ' --->  ', label)"
   ]
  },
  {
   "cell_type": "code",
   "execution_count": 6,
   "metadata": {},
   "outputs": [],
   "source": [
    "train_labels_info = []\n",
    "for image_path, label in zip(train_image_paths, training_image_labels):\n",
    "    train_labels_info.append((image_path, label))"
   ]
  },
  {
   "cell_type": "code",
   "execution_count": 7,
   "metadata": {},
   "outputs": [
    {
     "name": "stdout",
     "output_type": "stream",
     "text": [
      "[('ban_face_dataset\\\\training\\\\Ornn\\\\630.jpg', 'Ornn'),\n",
      " ('ban_face_dataset\\\\training\\\\Irelia\\\\290.jpg', 'Irelia'),\n",
      " ('ban_face_dataset\\\\training\\\\Zyra\\\\560.jpg', 'Zyra'),\n",
      " ('ban_face_dataset\\\\training\\\\Illaoi\\\\233.jpg', 'Illaoi'),\n",
      " ('ban_face_dataset\\\\training\\\\Annie\\\\190.jpg', 'Annie')]\n"
     ]
    }
   ],
   "source": [
    "import pprint\n",
    "pprint.pprint(train_labels_info[:5])"
   ]
  },
  {
   "cell_type": "code",
   "execution_count": 8,
   "metadata": {},
   "outputs": [
    {
     "name": "stdout",
     "output_type": "stream",
     "text": [
      "ban_face_dataset\\valid\\Karthus\\20.jpg  --->   Karthus\n",
      "ban_face_dataset\\valid\\Braum\\150.jpg  --->   Braum\n",
      "ban_face_dataset\\valid\\Zoe\\135.jpg  --->   Zoe\n",
      "ban_face_dataset\\valid\\Karma\\20.jpg  --->   Karma\n",
      "ban_face_dataset\\valid\\Twitch\\129.jpg  --->   Twitch\n"
     ]
    }
   ],
   "source": [
    "valid_image_labels = [pathlib.Path(path).parent.name for path in valid_image_paths]\n",
    "for image, label in zip(valid_image_paths[:5], valid_image_labels[:5]):\n",
    "    print(image, ' --->  ', label)"
   ]
  },
  {
   "cell_type": "code",
   "execution_count": 9,
   "metadata": {},
   "outputs": [],
   "source": [
    "valid_labels_info = []\n",
    "for image_path, label in zip(valid_image_paths, valid_image_labels):\n",
    "    valid_labels_info.append((image_path, label))"
   ]
  },
  {
   "cell_type": "code",
   "execution_count": 10,
   "metadata": {},
   "outputs": [
    {
     "name": "stdout",
     "output_type": "stream",
     "text": [
      "[('ban_face_dataset\\\\valid\\\\Karthus\\\\20.jpg', 'Karthus'),\n",
      " ('ban_face_dataset\\\\valid\\\\Braum\\\\150.jpg', 'Braum'),\n",
      " ('ban_face_dataset\\\\valid\\\\Zoe\\\\135.jpg', 'Zoe'),\n",
      " ('ban_face_dataset\\\\valid\\\\Karma\\\\20.jpg', 'Karma'),\n",
      " ('ban_face_dataset\\\\valid\\\\Twitch\\\\129.jpg', 'Twitch')]\n"
     ]
    }
   ],
   "source": [
    "pprint.pprint(valid_labels_info[:5])"
   ]
  },
  {
   "cell_type": "code",
   "execution_count": 11,
   "metadata": {},
   "outputs": [
    {
     "name": "stdout",
     "output_type": "stream",
     "text": [
      "                                   filepath   class\n",
      "0    ban_face_dataset\\training\\Ornn\\630.jpg    Ornn\n",
      "1  ban_face_dataset\\training\\Irelia\\290.jpg  Irelia\n",
      "2    ban_face_dataset\\training\\Zyra\\560.jpg    Zyra\n",
      "3  ban_face_dataset\\training\\Illaoi\\233.jpg  Illaoi\n",
      "4   ban_face_dataset\\training\\Annie\\190.jpg   Annie\n",
      "                                filepath    class\n",
      "0  ban_face_dataset\\valid\\Karthus\\20.jpg  Karthus\n",
      "1   ban_face_dataset\\valid\\Braum\\150.jpg    Braum\n",
      "2     ban_face_dataset\\valid\\Zoe\\135.jpg      Zoe\n",
      "3    ban_face_dataset\\valid\\Karma\\20.jpg    Karma\n",
      "4  ban_face_dataset\\valid\\Twitch\\129.jpg   Twitch\n"
     ]
    }
   ],
   "source": [
    "train_df = pd.DataFrame(train_labels_info)\n",
    "valid_df = pd.DataFrame(valid_labels_info)\n",
    "\n",
    "train_df.columns = valid_df.columns = ['filepath', 'class']\n",
    "\n",
    "print(train_df.head())\n",
    "print(valid_df.head())"
   ]
  },
  {
   "cell_type": "code",
   "execution_count": 12,
   "metadata": {},
   "outputs": [
    {
     "name": "stdout",
     "output_type": "stream",
     "text": [
      "Found 104908 validated image filenames belonging to 151 classes.\n",
      "Found 27800 validated image filenames belonging to 151 classes.\n"
     ]
    }
   ],
   "source": [
    "height = 32\n",
    "width = 32\n",
    "channels = 3\n",
    "batch_size = 128\n",
    "num_classes = 151\n",
    "\n",
    "train_datagen = keras.preprocessing.image.ImageDataGenerator(\n",
    "    #像素值 都除以255\n",
    "    rescale = 1./255,\n",
    "    # 图片随机旋转 (5度以内)\n",
    "    rotation_range = 20,\n",
    "    # 图片左右位移  20%限度以内\n",
    "    width_shift_range = 0.2,\n",
    "    # 图片上下位移  20%限度以内\n",
    "    height_shift_range = 0.2,\n",
    "    # 图像剪切强度\n",
    "    shear_range = 0.2,\n",
    "    # 图像缩放强度\n",
    "    zoom_range = 0.2,\n",
    "    # 是否水平翻转\n",
    "    horizontal_flip = False,\n",
    "    # 放大缩小吼， 像素填充方式\n",
    "    fill_mode = 'nearest',\n",
    ")\n",
    "\n",
    "train_generator = train_datagen.flow_from_dataframe(train_df, directory = './',\n",
    "                                                    x_col = 'filepath',\n",
    "                                                    y_col = 'class',\n",
    "                                                    classes = label_names,\n",
    "                                                    target_size = (height, width),\n",
    "                                                    batch_size = batch_size,\n",
    "                                                    seed = 2333,\n",
    "                                                    shuffle = True,\n",
    "                                                    class_mode = \"categorical\")\n",
    "\n",
    "valid_datagen = keras.preprocessing.image.ImageDataGenerator(\n",
    "    rescale = 1./255,\n",
    ")\n",
    "valid_generator = valid_datagen.flow_from_dataframe(valid_df, directory = './',\n",
    "                                                    x_col = 'filepath',\n",
    "                                                    y_col = 'class',\n",
    "                                                    classes = label_names,\n",
    "                                                    target_size = (height, width),\n",
    "                                                    batch_size = batch_size,\n",
    "                                                    seed = 666,\n",
    "                                                    shuffle = True,\n",
    "                                                    class_mode = \"categorical\")\n"
   ]
  },
  {
   "cell_type": "code",
   "execution_count": 13,
   "metadata": {},
   "outputs": [
    {
     "name": "stdout",
     "output_type": "stream",
     "text": [
      "Training Generator Sample ->  104908\n",
      "Validation Generator Sample ->  27800\n"
     ]
    }
   ],
   "source": [
    "train_num = train_generator.samples\n",
    "valid_num = valid_generator.samples\n",
    "\n",
    "print(\"Training Generator Sample -> \", train_num)\n",
    "print(\"Validation Generator Sample -> \", valid_num)"
   ]
  },
  {
   "cell_type": "code",
   "execution_count": 14,
   "metadata": {},
   "outputs": [
    {
     "name": "stdout",
     "output_type": "stream",
     "text": [
      "(128, 32, 32, 3) (128, 151)\n",
      "[[0. 0. 0. ... 0. 0. 0.]\n",
      " [0. 0. 0. ... 0. 0. 0.]\n",
      " [0. 0. 0. ... 0. 0. 0.]\n",
      " ...\n",
      " [0. 0. 0. ... 0. 0. 0.]\n",
      " [0. 0. 0. ... 0. 0. 0.]\n",
      " [0. 0. 0. ... 0. 0. 0.]]\n",
      "(128, 32, 32, 3) (128, 151)\n",
      "[[0. 0. 0. ... 0. 0. 0.]\n",
      " [0. 0. 0. ... 0. 0. 0.]\n",
      " [0. 0. 0. ... 0. 0. 0.]\n",
      " ...\n",
      " [0. 0. 0. ... 0. 0. 0.]\n",
      " [0. 0. 0. ... 0. 0. 0.]\n",
      " [0. 0. 0. ... 0. 0. 0.]]\n"
     ]
    }
   ],
   "source": [
    "for i in range(2):\n",
    "    x, y = train_generator.next()\n",
    "    print(x.shape, y.shape)\n",
    "    print(y)"
   ]
  },
  {
   "cell_type": "code",
   "execution_count": 15,
   "metadata": {},
   "outputs": [
    {
     "name": "stdout",
     "output_type": "stream",
     "text": [
      "Model: \"sequential\"\n",
      "_________________________________________________________________\n",
      "Layer (type)                 Output Shape              Param #   \n",
      "=================================================================\n",
      "conv2d (Conv2D)              (None, 32, 32, 16)        448       \n",
      "_________________________________________________________________\n",
      "conv2d_1 (Conv2D)            (None, 32, 32, 16)        2320      \n",
      "_________________________________________________________________\n",
      "max_pooling2d (MaxPooling2D) (None, 16, 16, 16)        0         \n",
      "_________________________________________________________________\n",
      "conv2d_2 (Conv2D)            (None, 16, 16, 32)        4640      \n",
      "_________________________________________________________________\n",
      "conv2d_3 (Conv2D)            (None, 16, 16, 32)        9248      \n",
      "_________________________________________________________________\n",
      "max_pooling2d_1 (MaxPooling2 (None, 8, 8, 32)          0         \n",
      "_________________________________________________________________\n",
      "conv2d_4 (Conv2D)            (None, 8, 8, 64)          18496     \n",
      "_________________________________________________________________\n",
      "conv2d_5 (Conv2D)            (None, 8, 8, 64)          36928     \n",
      "_________________________________________________________________\n",
      "max_pooling2d_2 (MaxPooling2 (None, 4, 4, 64)          0         \n",
      "_________________________________________________________________\n",
      "flatten (Flatten)            (None, 1024)              0         \n",
      "_________________________________________________________________\n",
      "dense (Dense)                (None, 128)               131200    \n",
      "_________________________________________________________________\n",
      "alpha_dropout (AlphaDropout) (None, 128)               0         \n",
      "_________________________________________________________________\n",
      "dense_1 (Dense)              (None, 151)               19479     \n",
      "=================================================================\n",
      "Total params: 222,759\n",
      "Trainable params: 222,759\n",
      "Non-trainable params: 0\n",
      "_________________________________________________________________\n"
     ]
    }
   ],
   "source": [
    "model = keras.models.Sequential([\n",
    "     \n",
    "    keras.layers.Conv2D(filters=16, kernel_size = 3, padding='same',\n",
    "                       activation = 'selu', input_shape = [width, height, channels]),\n",
    "    keras.layers.Conv2D(filters=16, kernel_size = 3, \n",
    "                        padding='same', activation = 'selu'),\n",
    "    keras.layers.MaxPool2D(pool_size=2),\n",
    "    \n",
    "    keras.layers.Conv2D(filters=32, kernel_size = 3, \n",
    "                        padding='same', activation = 'selu'),\n",
    "    keras.layers.Conv2D(filters=32, kernel_size = 3, \n",
    "                        padding='same', activation = 'selu'),\n",
    "    keras.layers.MaxPool2D(pool_size=2),\n",
    "    \n",
    "    keras.layers.Conv2D(filters=64, kernel_size = 3, padding='same',\n",
    "                       activation = 'selu', input_shape = [width, height, channels]),\n",
    "    keras.layers.Conv2D(filters=64, kernel_size = 3, \n",
    "                        padding='same', activation = 'selu'),\n",
    "    keras.layers.MaxPool2D(pool_size=2),\n",
    "    \n",
    "    keras.layers.Flatten(),\n",
    "    keras.layers.Dense(128, activation = 'selu'),\n",
    "    keras.layers.AlphaDropout(rate=0.5),\n",
    "    \n",
    "    keras.layers.Dense(num_classes, activation = 'softmax')\n",
    "])\n",
    "\n",
    "model.compile(loss=\"categorical_crossentropy\",\n",
    "             optimizer = \"adam\", metrics = ['accuracy'])\n",
    "\n",
    "model.summary()"
   ]
  },
  {
   "cell_type": "code",
   "execution_count": 16,
   "metadata": {},
   "outputs": [],
   "source": [
    "logdir = './ban_face_recognition'\n",
    "if not os.path.exists(logdir):\n",
    "    os.mkdir(logdir)\n",
    "\n",
    "output_model_file = os.path.join(logdir, \"ban_face_recognition_model.h5\")\n",
    "\n",
    "callbacks = [\n",
    "    keras.callbacks.ModelCheckpoint(output_model_file, save_best_only=True),\n",
    "    keras.callbacks.EarlyStopping(patience=5, min_delta=1e-3)\n",
    "]"
   ]
  },
  {
   "cell_type": "code",
   "execution_count": 17,
   "metadata": {},
   "outputs": [
    {
     "name": "stdout",
     "output_type": "stream",
     "text": [
      "Epoch 1/30\n",
      "819/819 [==============================] - 108s 132ms/step - loss: 1.3520 - accuracy: 0.6594 - val_loss: 0.2844 - val_accuracy: 0.9454\n",
      "Epoch 2/30\n",
      "819/819 [==============================] - 106s 129ms/step - loss: 0.2882 - accuracy: 0.9143 - val_loss: 0.0219 - val_accuracy: 0.9931\n",
      "Epoch 3/30\n",
      "819/819 [==============================] - 106s 129ms/step - loss: 0.1894 - accuracy: 0.9432 - val_loss: 0.2166 - val_accuracy: 0.9692\n",
      "Epoch 4/30\n",
      "819/819 [==============================] - 105s 129ms/step - loss: 0.1525 - accuracy: 0.9533 - val_loss: 0.0236 - val_accuracy: 0.9945\n",
      "Epoch 5/30\n",
      "819/819 [==============================] - 105s 128ms/step - loss: 0.1318 - accuracy: 0.9610 - val_loss: 0.0609 - val_accuracy: 0.9892\n",
      "Epoch 6/30\n",
      "819/819 [==============================] - 108s 132ms/step - loss: 0.1248 - accuracy: 0.9630 - val_loss: 0.0046 - val_accuracy: 0.9989\n",
      "Epoch 7/30\n",
      "819/819 [==============================] - 106s 130ms/step - loss: 0.1062 - accuracy: 0.9689 - val_loss: 0.0063 - val_accuracy: 0.9987\n",
      "Epoch 8/30\n",
      "819/819 [==============================] - 106s 129ms/step - loss: 0.1100 - accuracy: 0.9688 - val_loss: 0.0061 - val_accuracy: 0.9983\n",
      "Epoch 9/30\n",
      "819/819 [==============================] - 106s 129ms/step - loss: 0.0957 - accuracy: 0.9727 - val_loss: 0.0508 - val_accuracy: 0.9953\n",
      "Epoch 10/30\n",
      "819/819 [==============================] - 106s 129ms/step - loss: 0.0926 - accuracy: 0.9744 - val_loss: 0.0103 - val_accuracy: 0.9975\n",
      "Epoch 11/30\n",
      "819/819 [==============================] - 106s 129ms/step - loss: 0.0956 - accuracy: 0.9747 - val_loss: 9.2642e-04 - val_accuracy: 0.9997\n",
      "Epoch 12/30\n",
      "819/819 [==============================] - 109s 133ms/step - loss: 0.0954 - accuracy: 0.9747 - val_loss: 0.0024 - val_accuracy: 0.9996\n",
      "Epoch 13/30\n",
      "819/819 [==============================] - 271s 331ms/step - loss: 0.0800 - accuracy: 0.9778 - val_loss: 0.0114 - val_accuracy: 0.9983\n",
      "Epoch 14/30\n",
      "819/819 [==============================] - 113s 137ms/step - loss: 0.0860 - accuracy: 0.9776 - val_loss: 0.0104 - val_accuracy: 0.9983\n",
      "Epoch 15/30\n",
      "819/819 [==============================] - 111s 136ms/step - loss: 0.0742 - accuracy: 0.9810 - val_loss: 0.0016 - val_accuracy: 0.9996\n",
      "Epoch 16/30\n",
      "819/819 [==============================] - 109s 134ms/step - loss: 0.0920 - accuracy: 0.9780 - val_loss: 0.1059 - val_accuracy: 0.9866\n",
      "Epoch 17/30\n",
      "819/819 [==============================] - 107s 131ms/step - loss: 0.0763 - accuracy: 0.9809 - val_loss: 0.0059 - val_accuracy: 0.9991\n",
      "Epoch 18/30\n",
      "819/819 [==============================] - 108s 131ms/step - loss: 0.0792 - accuracy: 0.9807 - val_loss: 0.0087 - val_accuracy: 0.9987\n",
      "Epoch 19/30\n",
      "819/819 [==============================] - 107s 131ms/step - loss: 0.0873 - accuracy: 0.9801 - val_loss: 0.0387 - val_accuracy: 0.9950\n",
      "Epoch 20/30\n",
      "819/819 [==============================] - 107s 130ms/step - loss: 0.0825 - accuracy: 0.9807 - val_loss: 0.0158 - val_accuracy: 0.9976\n",
      "Epoch 21/30\n",
      "819/819 [==============================] - 106s 130ms/step - loss: 0.0742 - accuracy: 0.9829 - val_loss: 0.0124 - val_accuracy: 0.9983\n",
      "Epoch 22/30\n",
      "819/819 [==============================] - 110s 134ms/step - loss: 0.0880 - accuracy: 0.9813 - val_loss: 0.0026 - val_accuracy: 0.9996\n",
      "Epoch 23/30\n",
      "819/819 [==============================] - 108s 132ms/step - loss: 0.0831 - accuracy: 0.9821 - val_loss: 0.0080 - val_accuracy: 0.9990\n",
      "Epoch 24/30\n",
      "819/819 [==============================] - 107s 131ms/step - loss: 0.0895 - accuracy: 0.9816 - val_loss: 4.3185e-06 - val_accuracy: 1.0000\n",
      "Epoch 25/30\n",
      "819/819 [==============================] - 107s 130ms/step - loss: 0.0727 - accuracy: 0.9844 - val_loss: 0.0264 - val_accuracy: 0.9976\n",
      "Epoch 26/30\n",
      "819/819 [==============================] - 107s 130ms/step - loss: 0.0827 - accuracy: 0.9829 - val_loss: 0.0074 - val_accuracy: 0.9990\n",
      "Epoch 27/30\n",
      "819/819 [==============================] - 106s 130ms/step - loss: 0.0801 - accuracy: 0.9838 - val_loss: 3.2258e-04 - val_accuracy: 0.9999\n",
      "Epoch 28/30\n",
      "819/819 [==============================] - 105s 129ms/step - loss: 0.0802 - accuracy: 0.9841 - val_loss: 0.0044 - val_accuracy: 0.9992\n",
      "Epoch 29/30\n",
      "819/819 [==============================] - 105s 128ms/step - loss: 0.0938 - accuracy: 0.9821 - val_loss: 2.5483e-07 - val_accuracy: 1.0000\n",
      "Epoch 30/30\n",
      "819/819 [==============================] - 108s 132ms/step - loss: 0.0769 - accuracy: 0.9853 - val_loss: 0.0120 - val_accuracy: 0.9986\n"
     ]
    }
   ],
   "source": [
    "epochs = 30\n",
    "#因为数据是generator 产生的 所以不能用fit函数\n",
    "history = model.fit_generator(train_generator, steps_per_epoch=train_num // batch_size,\n",
    "                             epochs=epochs, validation_data=valid_generator,\n",
    "                             validation_steps=valid_num//batch_size)"
   ]
  },
  {
   "cell_type": "code",
   "execution_count": 18,
   "metadata": {},
   "outputs": [],
   "source": [
    "def plot_learning_curves(history, label, epochs, min_value, max_value):\n",
    "    data = {}\n",
    "    data[label] = history.history[label]\n",
    "    data['val_'+label] = history.history['val_' + label]\n",
    "    \n",
    "    pd.DataFrame(data).plot(figsize = (8,5))\n",
    "    plt.grid(True)\n",
    "    plt.axis([0, epochs, min_value, max_value])\n",
    "    plt.show()"
   ]
  },
  {
   "cell_type": "code",
   "execution_count": 19,
   "metadata": {},
   "outputs": [
    {
     "data": {
      "image/png": "[encoded data removed]",
      "text/plain": [
       "<Figure size 576x360 with 1 Axes>"
      ]
     },
     "metadata": {
      "needs_background": "light"
     },
     "output_type": "display_data"
    }
   ],
   "source": [
    "plot_learning_curves(history, 'accuracy', epochs, 0, 1)"
   ]
  },
  {
   "cell_type": "code",
   "execution_count": 20,
   "metadata": {},
   "outputs": [
    {
     "data": {
      "image/png": "[encoded data removed]",
      "text/plain": [
       "<Figure size 576x360 with 1 Axes>"
      ]
     },
     "metadata": {
      "needs_background": "light"
     },
     "output_type": "display_data"
    }
   ],
   "source": [
    "plot_learning_curves(history, 'loss', epochs, 0, 2)"
   ]
  },
  {
   "cell_type": "code",
   "execution_count": 21,
   "metadata": {},
   "outputs": [],
   "source": [
    "def load_and_preprocess_single_img(path):\n",
    "    # read the img through file path\n",
    "    image = tf.io.read_file(path)  \n",
    "    image = tf.image.decode_jpeg(image, channels=3)\n",
    "    # 原始图片大小为(128, 128, 3)，重设为(32, 32)\n",
    "    image = tf.image.resize(image, [32, 32])  \n",
    "    image = tf.cast(image, tf.float32) / 255.0  # 归一化到[0,1]范围\n",
    "    image = np.expand_dims(image, axis = 0) # since you have batch_size, so you need to expand your image\n",
    "    return image"
   ]
  },
  {
   "cell_type": "code",
   "execution_count": 22,
   "metadata": {},
   "outputs": [],
   "source": [
    "def evaluate_single_pic(path, show=False):\n",
    "    \n",
    "    if show:\n",
    "        import matplotlib.image as mpimg\n",
    "        plt.imshow(mpimg.imread(path))\n",
    "    image = load_and_preprocess_single_img(path)\n",
    "    predict_result = model.predict(image)\n",
    "    print(\"This is\", label_names[np.argmax(predict_result, axis=1)[0]])"
   ]
  },
  {
   "cell_type": "code",
   "execution_count": 23,
   "metadata": {},
   "outputs": [],
   "source": [
    "model.save_weights('./checkpoints/my_checkpoint')"
   ]
  },
  {
   "cell_type": "code",
   "execution_count": 24,
   "metadata": {},
   "outputs": [],
   "source": [
    "model.save('./ban_face_recognition_model.h5')"
   ]
  },
  {
   "cell_type": "code",
   "execution_count": 25,
   "metadata": {},
   "outputs": [],
   "source": [
    "# test_pic_path2 = \"./lol_data_1/test_2/18.png\"\n",
    "# evaluate_single_pic(test_pic_path2, True)"
   ]
  },
  {
   "cell_type": "code",
   "execution_count": null,
   "metadata": {},
   "outputs": [],
   "source": []
  }
 ],
 "metadata": {
  "kernelspec": {
   "display_name": "TensorFlow-GPU",
   "language": "python",
   "name": "tf2_gpu"
  },
  "language_info": {
   "codemirror_mode": {
    "name": "ipython",
    "version": 3
   },
   "file_extension": ".py",
   "mimetype": "text/x-python",
   "name": "python",
   "nbconvert_exporter": "python",
   "pygments_lexer": "ipython3",
   "version": "3.7.5"
  }
 },
 "nbformat": 4,
 "nbformat_minor": 2
}
