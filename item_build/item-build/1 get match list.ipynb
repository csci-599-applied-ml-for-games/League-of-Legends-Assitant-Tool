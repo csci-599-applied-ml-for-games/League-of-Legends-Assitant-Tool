{
 "nbformat": 4,
 "nbformat_minor": 2,
 "metadata": {
  "language_info": {
   "name": "python",
   "codemirror_mode": {
    "name": "ipython",
    "version": 3
   },
   "version": "3.6.10-final"
  },
  "orig_nbformat": 2,
  "file_extension": ".py",
  "mimetype": "text/x-python",
  "name": "python",
  "npconvert_exporter": "python",
  "pygments_lexer": "ipython3",
  "version": 3,
  "kernelspec": {
   "name": "python361064bitcs599conda86b47a11265045ac812d4b812133c8b5",
   "display_name": "Python 3.6.10 64-bit ('cs599': conda)"
  }
 },
 "cells": [
  {
   "cell_type": "code",
   "execution_count": 12,
   "metadata": {},
   "outputs": [],
   "source": [
    "import requests\n",
    "from bs4 import BeautifulSoup\n",
    "import re\n",
    "import urllib\n",
    "\n",
    "palyer_name = \"현옹과 상틸다\"\n",
    "base = \"https://www.op.gg/summoner/userName=\"\n",
    "\n",
    "# url = base + urllib.parse.quote_plus(palyer_name)\n",
    "url = base + palyer_name\n",
    "# url = \"https://www.op.gg/summoner/userName=%ED%98%84%EC%98%B9%EA%B3%BC+%EC%83%81%ED%8B%B8%EB%8B%A4\"\n",
    "r = requests.get(url)\n",
    "soup_page_one = BeautifulSoup(r.text,'html.parser')"
   ]
  },
  {
   "cell_type": "code",
   "execution_count": 13,
   "metadata": {},
   "outputs": [],
   "source": [
    "# request \"Show More\"\n",
    "# get summoner ID\n",
    "user_info = {}\n",
    "div_GameListContainer = soup_page_one.find(name='div',attrs={'class':'GameListContainer'}).attrs\n",
    "user_info['data-summoner-id'] = div_GameListContainer['data-summoner-id']\n",
    "user_info['data-last-info'] = div_GameListContainer['data-last-info']\n",
    "\n",
    "div_GameItemWrap_page_one = soup_page_one.find_all(name='div',attrs={'class':'GameItemWrap'})\n",
    "match_info_page_one = []\n",
    "for i in range(len(div_GameItemWrap_page_one)):\n",
    "    this_match = list(div_GameItemWrap_page_one[i].children)[1].attrs\n",
    "    match_info_page_one.append(this_match)"
   ]
  },
  {
   "cell_type": "code",
   "execution_count": 14,
   "metadata": {},
   "outputs": [
    {
     "name": "stdout",
     "output_type": "stream",
     "text": "Page 2, Status Code: 200, Success!\nPage two, Soup!\n"
    }
   ],
   "source": [
    "# fetch page 2\n",
    "first_show_more_url = \"https://www.op.gg/summoner/matches/ajax/averageAndList/startInfo={}&summonerId={}\".format(user_info['data-last-info'],user_info['data-summoner-id'])\n",
    "response_page_two = requests.get(first_show_more_url)\n",
    "if response_page_two.status_code == 200:\n",
    "    print('Page 2, Status Code: 200, Success!')\n",
    "    if response_page_two.headers['content-type'] == 'text/json;charset=UTF-8':\n",
    "        soup_page_two = BeautifulSoup(response_page_two.json()['html'],'html.parser')\n",
    "        print(\"Page two, Soup!\")\n",
    "elif response_page_two.status_code == 404:\n",
    "    print('Not Found.',first_show_more_url)"
   ]
  },
  {
   "cell_type": "code",
   "execution_count": 17,
   "metadata": {},
   "outputs": [
    {
     "name": "stdout",
     "output_type": "stream",
     "text": "Page 3, Status Code: 200, Success!\nPage three, Soup!\n"
    }
   ],
   "source": [
    "# grab the useful info from page 2\n",
    "div_GameItemWrap_page_two = soup_page_two.find_all(name='div',attrs={'class':'GameItemWrap'})\n",
    "match_info_page_two = []\n",
    "for i in range(len(div_GameItemWrap_page_two)):\n",
    "    this_match = list(div_GameItemWrap_page_two[i].children)[1].attrs\n",
    "    # this_match.pop('class')\n",
    "    match_info_page_two.append(this_match)\n",
    "\n",
    "# request \"Show More\",second time\n",
    "second_show_more_url = \"https://www.op.gg/summoner/matches/ajax/averageAndList/startInfo={}&summonerId={}\".format(match_info_page_two[-1]['data-game-time'],match_info_page_two[-1]['data-summoner-id'])\n",
    "response_page_three = requests.get(second_show_more_url)\n",
    "if response_page_three.status_code == 200:\n",
    "    print('Page 3, Status Code: 200, Success!')\n",
    "    if response_page_three.headers['content-type'] == 'text/json;charset=UTF-8':\n",
    "        soup_page_three = BeautifulSoup(response_page_three.json()['html'],'html.parser')\n",
    "        print(\"Page three, Soup!\")\n",
    "elif response_page_three.status_code == 404:\n",
    "    print('Not Found.',second_show_more_url)\n",
    "\n",
    "div_GameItemWrap_page_three = soup_page_two.find_all(name='div',attrs={'class':'GameItemWrap'})\n",
    "match_info_page_three = []\n",
    "for i in range(len(div_GameItemWrap_page_three)):\n",
    "    this_match = list(div_GameItemWrap_page_three[i].children)[1].attrs\n",
    "    # this_match.pop('class')\n",
    "    match_info_page_three.append(this_match)"
   ]
  },
  {
   "cell_type": "code",
   "execution_count": 20,
   "metadata": {},
   "outputs": [
    {
     "data": {
      "text/plain": "20"
     },
     "execution_count": 20,
     "metadata": {},
     "output_type": "execute_result"
    }
   ],
   "source": [
    "match_info = []\n",
    "match_info.append(match_info_page_one)\n",
    "match_info.append(match_info_page_two)\n",
    "match_info.append(match_info_page_three)\n",
    "len(match_info[0])"
   ]
  },
  {
   "cell_type": "code",
   "execution_count": 11,
   "metadata": {},
   "outputs": [],
   "source": [
    "with open(\"testing.txt\",\"w\") as test:\n",
    "    test.write(str(soup_page_one))    "
   ]
  }
 ]
}