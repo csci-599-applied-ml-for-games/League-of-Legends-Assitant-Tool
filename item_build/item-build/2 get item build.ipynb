{
 "nbformat": 4,
 "nbformat_minor": 2,
 "metadata": {
  "language_info": {
   "name": "python",
   "codemirror_mode": {
    "name": "ipython",
    "version": 3
   },
   "version": "3.6.10-final"
  },
  "orig_nbformat": 2,
  "file_extension": ".py",
  "mimetype": "text/x-python",
  "name": "python",
  "npconvert_exporter": "python",
  "pygments_lexer": "ipython3",
  "version": 3,
  "kernelspec": {
   "name": "python361064bitcs599conda86b47a11265045ac812d4b812133c8b5",
   "display_name": "Python 3.6.10 64-bit ('cs599': conda)"
  }
 },
 "cells": [
  {
   "cell_type": "code",
   "execution_count": 1,
   "metadata": {},
   "outputs": [
    {
     "name": "stdout",
     "output_type": "stream",
     "text": "player E8 page 1, done.\nPage 2, Status Code: 200, Success!\nPage two, Soup!\nplayer E8 page 2,done.\nPage 3, Status Code: 200, Success!\nPage three, Soup!\nplayer E8 page 3, done.\nGot the match list of three pages.\n"
    }
   ],
   "source": [
    "import sys,os, re,csv\n",
    "import requests\n",
    "from bs4 import BeautifulSoup\n",
    "\n",
    "global player_name\n",
    "player_name = 'E8'\n",
    "\n",
    "base = \"https://www.op.gg/summoner/userName=\"\n",
    "# url = base + urllib.parse.quote_plus(palyer_name)\n",
    "url = base + player_name\n",
    "# url = \"https://www.op.gg/summoner/userName=%ED%98%84%EC%98%B9%EA%B3%BC+%EC%83%81%ED%8B%B8%EB%8B%A4\"\n",
    "r = requests.get(url)\n",
    "soup_page_one = BeautifulSoup(r.text,'html.parser')\n",
    "\n",
    "# get summoner ID\n",
    "user_info = {}\n",
    "div_GameListContainer = soup_page_one.find(name='div',attrs={'class':'GameListContainer'}).attrs\n",
    "user_info['data-summoner-id'] = div_GameListContainer['data-summoner-id']\n",
    "user_info['data-last-info'] = div_GameListContainer['data-last-info']\n",
    "\n",
    "div_GameItemWrap_page_one = soup_page_one.find_all(name='div',attrs={'class':'GameItemWrap'})\n",
    "match_info_page_one = []\n",
    "for i in range(len(div_GameItemWrap_page_one)):\n",
    "    this_match = list(div_GameItemWrap_page_one[i].children)[1].attrs\n",
    "    match_info_page_one.append(this_match)\n",
    "print(\"player {} page 1, done.\".format(player_name))\n",
    "\n",
    "# Page 2\n",
    "first_show_more_url = \"https://www.op.gg/summoner/matches/ajax/averageAndList/startInfo={}&summonerId={}\".format(user_info['data-last-info'],user_info['data-summoner-id'])\n",
    "response_page_two = requests.get(first_show_more_url)\n",
    "if response_page_two.status_code == 200:\n",
    "    print('Page 2, Status Code: 200, Success!')\n",
    "    if response_page_two.headers['content-type'] == 'text/json;charset=UTF-8':\n",
    "        soup_page_two = BeautifulSoup(response_page_two.json()['html'],'html.parser')\n",
    "        print(\"Page two, Soup!\")\n",
    "elif response_page_two.status_code == 404:\n",
    "    print('Not Found.',first_show_more_url)\n",
    "# grab the useful info from page 2\n",
    "div_GameItemWrap_page_two = soup_page_two.find_all(name='div',attrs={'class':'GameItemWrap'})\n",
    "match_info_page_two = []\n",
    "for i in range(len(div_GameItemWrap_page_two)):\n",
    "    this_match = list(div_GameItemWrap_page_two[i].children)[1].attrs\n",
    "    # this_match.pop('class')\n",
    "    match_info_page_two.append(this_match)\n",
    "print(\"player {} page 2,done.\".format(player_name))\n",
    "\n",
    "# Page 3\n",
    "second_show_more_url = \"https://www.op.gg/summoner/matches/ajax/averageAndList/startInfo={}&summonerId={}\".format(match_info_page_two[-1]['data-game-time'],match_info_page_two[-1]['data-summoner-id'])\n",
    "response_page_three = requests.get(second_show_more_url)\n",
    "if response_page_three.status_code == 200:\n",
    "    print('Page 3, Status Code: 200, Success!')\n",
    "    if response_page_three.headers['content-type'] == 'text/json;charset=UTF-8':\n",
    "        soup_page_three = BeautifulSoup(response_page_three.json()['html'],'html.parser')\n",
    "        print(\"Page three, Soup!\")\n",
    "elif response_page_three.status_code == 404:\n",
    "    print('Not Found.',second_show_more_url)\n",
    "\n",
    "div_GameItemWrap_page_three = soup_page_two.find_all(name='div',attrs={'class':'GameItemWrap'})\n",
    "match_info_page_three = []\n",
    "for i in range(len(div_GameItemWrap_page_three)):\n",
    "    this_match = list(div_GameItemWrap_page_three[i].children)[1].attrs\n",
    "    # this_match.pop('class')\n",
    "    match_info_page_three.append(this_match)\n",
    "\n",
    "print(\"player {} page 3, done.\".format(player_name))\n",
    "\n",
    "match_info = []\n",
    "match_info.append(match_info_page_one)\n",
    "match_info.append(match_info_page_two)\n",
    "match_info.append(match_info_page_three)\n",
    "print(\"Got the match list of three pages.\")"
   ]
  },
  {
   "cell_type": "code",
   "execution_count": 2,
   "metadata": {},
   "outputs": [
    {
     "name": "stdout",
     "output_type": "stream",
     "text": "Working on page 0, match 9\n"
    }
   ],
   "source": [
    "page = 0\n",
    "match = 9\n",
    "print(\"Working on page {}, match {}\".format(page,match))\n",
    "request_parameters = dict()\n",
    "request_parameters['gameId']= match_info[page][match]['data-game-id']\n",
    "request_parameters['summonerId']=match_info[page][match]['data-summoner-id']\n",
    "request_parameters['gameTime']=match_info[page][match]['data-game-time']\n",
    "detail_url = \"https://www.op.gg/summoner/matches/ajax/detail/gameId={}&summonerId={}&gameTime={}\".format(request_parameters['gameId'],request_parameters['summonerId'],request_parameters['gameTime'])\n",
    "\n",
    "# start fetch the detail of a match\n",
    "detail_request = requests.get(detail_url)\n",
    "detail_soup = BeautifulSoup(detail_request.text,'html.parser')\n",
    "\n",
    "fieldnames = ('Player Page','Page','Match','Game Result','Alignment', 'Player Name', 'Champion','Item Build','Level','Tier Level','Summoner Spell','Rune')\n",
    "f = open(player_name+\".csv\",'at')\n",
    "csv_writer = csv.DictWriter(f, fieldnames=fieldnames)\n",
    "\n",
    "divGameDetailTableWrap = detail_soup.find(name='div',attrs={'class':'GameDetailTableWrap'})\n",
    "\n",
    "# Ally Team\n",
    "allyteam_soup = list(divGameDetailTableWrap.children)[1]\n",
    "allyteam_player = []\n",
    "tbodyContent_list = list(allyteam_soup.find(name='tbody',attrs={'class':'Content'}).children)\n",
    "\n",
    "for i in range(1,10,2):\n",
    "    allyteam_player.append(tbodyContent_list[i])\n",
    "allyteam = []\n",
    "export_list_ally = []\n",
    "for i in range(len(allyteam_player)): # 0,1,2,3,4\n",
    "    # get the information a player\n",
    "    a_player = list(allyteam_player[i].children)\n",
    "\n",
    "    champion_name = re.findall(r\"[a-zA-Z&' ]+\",a_player[1].get_text())[0]\n",
    "    champion_level = re.findall(r\"\\d+\",a_player[1].get_text())[0]\n",
    "    summoner_spell = a_player[3]\n",
    "    rune = a_player[5]\n",
    "    this_player_name = a_player[7].get_text().strip()\n",
    "    tier_level = a_player[9].get_text().strip()\n",
    "\n",
    "    item_build_soup = list(a_player[-2].children)\n",
    "    item_build = []\n",
    "    \n",
    "    for i in range(1,len(item_build_soup),2):\n",
    "        item = re.findall(r'img alt=\"[a-zA-Z \\'-]+\"',str(item_build_soup[i]))\n",
    "        if item == []:\n",
    "            item_build.append(\"\")\n",
    "        else:\n",
    "            item_build.append(item[0].replace(\"img alt=\",\"\")[1:-1])\n",
    "\n",
    "    export_dict_ally = {}\n",
    "    export_dict_ally['Alignment'] = \"Ally\"\n",
    "    export_dict_ally['Player Name'] = this_player_name\n",
    "    export_dict_ally['Champion'] = champion_name\n",
    "    export_dict_ally['Item Build'] = item_build\n",
    "    export_dict_ally['Level'] = champion_level\n",
    "    export_dict_ally['Tier Level'] = tier_level\n",
    "    export_dict_ally['Summoner Spell'] = summoner_spell\n",
    "    export_dict_ally['Rune'] = rune\n",
    "    export_list_ally.append(export_dict_ally)\n",
    "\n",
    "\n",
    "# Enemy Team\n",
    "enemyteam_soup = list(divGameDetailTableWrap.children)[5]\n",
    "enemyteam_player = []\n",
    "tbodyContent_list = list(enemyteam_soup.find(name='tbody',attrs={'class':'Content'}).children)\n",
    "\n",
    "for i in range(1,len(tbodyContent_list),2):\n",
    "    enemyteam_player.append(tbodyContent_list[i])\n",
    "enemyteam = []\n",
    "export_list_enemy = []\n",
    "for i in range(len(allyteam_player)): # 0,1,2,3,4\n",
    "    # get the information a player\n",
    "    a_player = list(enemyteam_player[i].children)\n",
    "    champion_name = re.findall(r\"[a-zA-Z&' ]+\",a_player[1].get_text())[0]\n",
    "    champion_level = re.findall(r\"\\d+\",a_player[1].get_text())[0]\n",
    "    summoner_spell = a_player[3]\n",
    "    rune = a_player[5]\n",
    "    this_player_name = a_player[7].get_text().strip()\n",
    "    tier_level = a_player[9].get_text().strip()\n",
    "\n",
    "    item_build_soup = list(a_player[-2].children)\n",
    "    item_build = []\n",
    "\n",
    "    for i in range(1,len(item_build_soup),2):\n",
    "        item = re.findall(r'img alt=\"[a-zA-Z \\'-]+\"',str(item_build_soup[i]))\n",
    "        if item == []:\n",
    "            item_build.append(\"\")\n",
    "        else:\n",
    "            item_build.append(item[0].replace(\"img alt=\",\"\")[1:-1])\n",
    "    \n",
    "    export_dict_enemy = {}\n",
    "    export_dict_enemy['Alignment'] = \"enemy\"\n",
    "    export_dict_enemy['Player Name'] = this_player_name\n",
    "    export_dict_enemy['Champion'] = champion_name\n",
    "    export_dict_enemy['Item Build'] = str(item_build)\n",
    "    export_dict_enemy['Level'] = champion_level\n",
    "    export_dict_enemy['Tier Level'] = tier_level\n",
    "    export_dict_enemy['Summoner Spell'] = str(summoner_spell)\n",
    "    export_dict_enemy['Rune'] = str(rune)\n",
    "    \n",
    "    export_list_enemy.append(export_dict_enemy)\n"
   ]
  },
  {
   "cell_type": "code",
   "execution_count": 74,
   "metadata": {},
   "outputs": [
    {
     "data": {
      "text/plain": "{'class': ['GameItem', 'Lose', 'Remake'],\n 'data-summoner-id': '70510331',\n 'data-game-time': '1581493598',\n 'data-game-id': '4147335122',\n 'data-game-result': 'lose'}"
     },
     "execution_count": 74,
     "metadata": {},
     "output_type": "execute_result"
    }
   ],
   "source": [
    "enemyteam_soup = list(divGameDetailTableWrap.children)\n",
    "str(enemyteam_soup[1])[0:100]\n",
    "match_info[1][12]"
   ]
  },
  {
   "cell_type": "code",
   "execution_count": 3,
   "metadata": {},
   "outputs": [],
   "source": [
    "fieldnames = ('Page','Match','Game Result', 'Champion','My Item Build','Enemy Team Build')\n",
    "f = open(player_name+\".csv\",'at')\n",
    "csv_writer = csv.DictWriter(f, fieldnames=fieldnames)\n",
    "csv_writer.writeheader()\n",
    "f.close()"
   ]
  },
  {
   "cell_type": "code",
   "execution_count": 6,
   "metadata": {},
   "outputs": [],
   "source": [
    "f = open(player_name+\".csv\",'at')\n",
    "csv_writer = csv.DictWriter(f, fieldnames=fieldnames)\n",
    "\n",
    "for ally in export_list_ally:\n",
    "    if ally['Player Name'] == player_name:\n",
    "        print(\"yes\")\n",
    "        export_dict={}\n",
    "        export_dict['Page'] = page\n",
    "        export_dict['Match'] = match\n",
    "        export_dict['Game Result'] = match_info[page][match]['data-game-result']\n",
    "        export_dict['Champion'] = ally['Champion']\n",
    "        export_dict['My Item Build'] = ally['Item Build']\n",
    "        for enemy in export_list_enemy:\n",
    "            export_dict['Enemy Team Build'] = enemy['Item Build']\n",
    "            csv_writer.writerow(export_dict)\n",
    "    else:\n",
    "        continue\n",
    "f.close()"
   ]
  },
  {
   "cell_type": "code",
   "execution_count": 5,
   "metadata": {},
   "outputs": [
    {
     "data": {
      "text/plain": "{'Alignment': 'Ally',\n 'Player Name': 'bao bei chen',\n 'Champion': 'Leona',\n 'Item Build': [\"Zeke's Convergence\",\n  'Bulwark of the Mountain',\n  \"Knight's Vow\",\n  'Control Ward',\n  'Boots of Mobility',\n  'Chain Vest',\n  'Oracle Lens'],\n 'Level': '14',\n 'Tier Level': 'Diamond 1',\n 'Summoner Spell': <td class=\"SummonerSpell Cell\">\n <img class=\"Image tip\" src=\"//opgg-static.akamaized.net/images/lol/spell/SummonerFlash.png?image=q_auto&amp;v=1581511032\" title=\"&lt;b style='color: #ffc659'&gt;Flash&lt;/b&gt;&lt;br&gt;&lt;span&gt;Teleports your champion a short distance toward your cursor's location.&lt;/span&gt;\"/>\n <img class=\"Image tip\" src=\"//opgg-static.akamaized.net/images/lol/spell/SummonerDot.png?image=q_auto&amp;v=1581511032\" title=\"&lt;b style='color: #ffc659'&gt;Ignite&lt;/b&gt;&lt;br&gt;&lt;span&gt;Ignites target enemy champion, dealing 70-410 true damage (depending on champion level) over 5 seconds, grants you vision of the target, and reduces healing effects on them for the duration.&lt;/span&gt;\"/>\n </td>,\n 'Rune': <td class=\"Rune Cell\">\n <img class=\"Image tip\" src=\"//opgg-static.akamaized.net/images/lol/perk/8439.png?image=q_auto&amp;v=1581511032\" title=\"&lt;b style='color: #ffc659'&gt;Aftershock&lt;/b&gt;&lt;br&gt;&lt;span&gt;After immobilizing an enemy champion, increase your Armor and Magic Resist by 35 + 80% of your Bonus Resists for 2.5s. Then explode, dealing magic damage to nearby enemies.&lt;br&gt;&lt;br&gt;Damage: 25 - 120 (+8% of your bonus health)&lt;br&gt;Cooldown: 20s&lt;br&gt;&lt;br&gt;Resistance bonus from Aftershock capped at: 80-150 (based on level)&lt;br&gt;&lt;/span&gt;\"/>\n <img class=\"Image tip\" src=\"//opgg-static.akamaized.net/images/lol/perkStyle/8100.png?image=q_auto&amp;v=1581511032\" title=\"&lt;b style='color: #ffc659'&gt;Domination&lt;/b&gt;&lt;br&gt;&lt;span&gt;Burst damage and target access&lt;/span&gt;\"/>\n </td>}"
     },
     "execution_count": 5,
     "metadata": {},
     "output_type": "execute_result"
    }
   ],
   "source": [
    "ally"
   ]
  },
  {
   "cell_type": "code",
   "execution_count": null,
   "metadata": {},
   "outputs": [],
   "source": [
    "def one_player(name):\n",
    "    match_info = get_match_list(name)\n",
    "    for i in range(len(match_info)):   # page\n",
    "        for j in range(len(match_info[i])):    # match\n",
    "            get_match_info(i,j,match_info)"
   ]
  },
  {
   "cell_type": "code",
   "execution_count": null,
   "metadata": {},
   "outputs": [],
   "source": [
    "# Main\n",
    "aatox = \"/Users/Oscar/Dropbox/! Schoolwork/CSCI 599 Applied Machine Learning for Games/item-build/Aatrox.txt\"\n",
    "global player_name\n",
    "player_name = '현옹과 상틸다'\n",
    "\n",
    "# with open(aatox,\"r\") as f_aatox:\n",
    "#     content = f_aatox.read()\n",
    "# player = eval(content)\n",
    "# for id in player:\n",
    "#     player_name = id[1]\n",
    "#     print(\"Working on Player \",player_name)\n",
    "\n",
    "fieldnames = ('Page','Match','Game Result', 'Champion','My Item Build','Enemy Team Build')\n",
    "f = open(player_name+\".csv\",'at')\n",
    "csv_writer = csv.DictWriter(f, fieldnames=fieldnames)\n",
    "csv_writer.writeheader()\n",
    "f.close()\n",
    "\n",
    "one_player(player_name)\n",
    "print(player_name,\"Done\\n\")"
   ]
  },
  {
   "cell_type": "code",
   "execution_count": null,
   "metadata": {},
   "outputs": [],
   "source": [
    "import csv\n",
    "fieldnames = ('Player Page','Page','Match','Game Result','Alignment', 'Player Name', 'Champion','Item Build','Level','Tier Level','Summoner Spell','Rune')\n",
    "f = open(\"test_export.csv\",'at')\n",
    "writer = csv.DictWriter(f, fieldnames=fieldnames)\n",
    "writer.writeheader()\n",
    "writer.writerow(export_dict)\n",
    "f.close()"
   ]
  },
  {
   "cell_type": "code",
   "execution_count": null,
   "metadata": {},
   "outputs": [],
   "source": [
    "\n"
   ]
  }
 ]
}